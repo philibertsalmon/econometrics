{
 "cells": [
  {
   "cell_type": "code",
   "execution_count": 67,
   "metadata": {},
   "outputs": [
    {
     "data": {
      "text/html": [
       "<div>\n",
       "<style scoped>\n",
       "    .dataframe tbody tr th:only-of-type {\n",
       "        vertical-align: middle;\n",
       "    }\n",
       "\n",
       "    .dataframe tbody tr th {\n",
       "        vertical-align: top;\n",
       "    }\n",
       "\n",
       "    .dataframe thead th {\n",
       "        text-align: right;\n",
       "    }\n",
       "</style>\n",
       "<table border=\"1\" class=\"dataframe\">\n",
       "  <thead>\n",
       "    <tr style=\"text-align: right;\">\n",
       "      <th></th>\n",
       "      <th>opendate</th>\n",
       "      <th>st.address</th>\n",
       "      <th>city</th>\n",
       "      <th>state</th>\n",
       "      <th>long</th>\n",
       "      <th>lat</th>\n",
       "      <th>type</th>\n",
       "      <th>year</th>\n",
       "    </tr>\n",
       "  </thead>\n",
       "  <tbody>\n",
       "    <tr>\n",
       "      <th>0</th>\n",
       "      <td>1962-03-01</td>\n",
       "      <td>5801 SW Regional Airport Blvd</td>\n",
       "      <td>Bentonville</td>\n",
       "      <td>AR</td>\n",
       "      <td>-94.239816</td>\n",
       "      <td>36.350885</td>\n",
       "      <td>DistributionCenter</td>\n",
       "      <td>1962</td>\n",
       "    </tr>\n",
       "    <tr>\n",
       "      <th>1</th>\n",
       "      <td>1962-07-01</td>\n",
       "      <td>2110 WEST WALNUT</td>\n",
       "      <td>Rogers</td>\n",
       "      <td>AR</td>\n",
       "      <td>-94.071410</td>\n",
       "      <td>36.342235</td>\n",
       "      <td>SuperCenter</td>\n",
       "      <td>1962</td>\n",
       "    </tr>\n",
       "    <tr>\n",
       "      <th>2</th>\n",
       "      <td>1964-08-01</td>\n",
       "      <td>1417 HWY 62/65 N</td>\n",
       "      <td>Harrison</td>\n",
       "      <td>AR</td>\n",
       "      <td>-93.093450</td>\n",
       "      <td>36.236984</td>\n",
       "      <td>SuperCenter</td>\n",
       "      <td>1964</td>\n",
       "    </tr>\n",
       "    <tr>\n",
       "      <th>3</th>\n",
       "      <td>1965-08-01</td>\n",
       "      <td>2901 HWY 412 EAST</td>\n",
       "      <td>Siloam Springs</td>\n",
       "      <td>AR</td>\n",
       "      <td>-94.502080</td>\n",
       "      <td>36.179905</td>\n",
       "      <td>SuperCenter</td>\n",
       "      <td>1965</td>\n",
       "    </tr>\n",
       "    <tr>\n",
       "      <th>4</th>\n",
       "      <td>1967-10-01</td>\n",
       "      <td>3801 CAMP ROBINSON RD.</td>\n",
       "      <td>North Little Rock</td>\n",
       "      <td>AR</td>\n",
       "      <td>-92.302290</td>\n",
       "      <td>34.813269</td>\n",
       "      <td>Wal-MartStore</td>\n",
       "      <td>1967</td>\n",
       "    </tr>\n",
       "    <tr>\n",
       "      <th>5</th>\n",
       "      <td>1967-10-01</td>\n",
       "      <td>1621 NORTH BUSINESS 9</td>\n",
       "      <td>Morrilton</td>\n",
       "      <td>AR</td>\n",
       "      <td>-92.758580</td>\n",
       "      <td>35.156491</td>\n",
       "      <td>SuperCenter</td>\n",
       "      <td>1967</td>\n",
       "    </tr>\n",
       "    <tr>\n",
       "      <th>6</th>\n",
       "      <td>1968-03-01</td>\n",
       "      <td>1303 SOUTH MAIN</td>\n",
       "      <td>Sikeston</td>\n",
       "      <td>MO</td>\n",
       "      <td>-89.583550</td>\n",
       "      <td>36.891163</td>\n",
       "      <td>SuperCenter</td>\n",
       "      <td>1968</td>\n",
       "    </tr>\n",
       "    <tr>\n",
       "      <th>7</th>\n",
       "      <td>1968-03-01</td>\n",
       "      <td>65 WAL-MART DRIVE</td>\n",
       "      <td>Mountain Home</td>\n",
       "      <td>AR</td>\n",
       "      <td>-92.357810</td>\n",
       "      <td>36.329026</td>\n",
       "      <td>SuperCenter</td>\n",
       "      <td>1968</td>\n",
       "    </tr>\n",
       "    <tr>\n",
       "      <th>8</th>\n",
       "      <td>1968-07-01</td>\n",
       "      <td>2020 SOUTH MUSKOGEE</td>\n",
       "      <td>Tahlequah</td>\n",
       "      <td>OK</td>\n",
       "      <td>-94.971850</td>\n",
       "      <td>35.923658</td>\n",
       "      <td>SuperCenter</td>\n",
       "      <td>1968</td>\n",
       "    </tr>\n",
       "    <tr>\n",
       "      <th>9</th>\n",
       "      <td>1968-07-01</td>\n",
       "      <td>1500 LYNN RIGGS BLVD</td>\n",
       "      <td>Claremore</td>\n",
       "      <td>OK</td>\n",
       "      <td>-95.611920</td>\n",
       "      <td>36.327143</td>\n",
       "      <td>SuperCenter</td>\n",
       "      <td>1968</td>\n",
       "    </tr>\n",
       "  </tbody>\n",
       "</table>\n",
       "</div>"
      ],
      "text/plain": [
       "     opendate                     st.address               city state  \\\n",
       "0  1962-03-01  5801 SW Regional Airport Blvd        Bentonville    AR   \n",
       "1  1962-07-01               2110 WEST WALNUT             Rogers    AR   \n",
       "2  1964-08-01               1417 HWY 62/65 N           Harrison    AR   \n",
       "3  1965-08-01              2901 HWY 412 EAST     Siloam Springs    AR   \n",
       "4  1967-10-01         3801 CAMP ROBINSON RD.  North Little Rock    AR   \n",
       "5  1967-10-01          1621 NORTH BUSINESS 9          Morrilton    AR   \n",
       "6  1968-03-01                1303 SOUTH MAIN           Sikeston    MO   \n",
       "7  1968-03-01              65 WAL-MART DRIVE      Mountain Home    AR   \n",
       "8  1968-07-01            2020 SOUTH MUSKOGEE          Tahlequah    OK   \n",
       "9  1968-07-01           1500 LYNN RIGGS BLVD          Claremore    OK   \n",
       "\n",
       "        long        lat                type  year  \n",
       "0 -94.239816  36.350885  DistributionCenter  1962  \n",
       "1 -94.071410  36.342235         SuperCenter  1962  \n",
       "2 -93.093450  36.236984         SuperCenter  1964  \n",
       "3 -94.502080  36.179905         SuperCenter  1965  \n",
       "4 -92.302290  34.813269       Wal-MartStore  1967  \n",
       "5 -92.758580  35.156491         SuperCenter  1967  \n",
       "6 -89.583550  36.891163         SuperCenter  1968  \n",
       "7 -92.357810  36.329026         SuperCenter  1968  \n",
       "8 -94.971850  35.923658         SuperCenter  1968  \n",
       "9 -95.611920  36.327143         SuperCenter  1968  "
      ]
     },
     "execution_count": 67,
     "metadata": {},
     "output_type": "execute_result"
    }
   ],
   "source": [
    "import pandas as pd\n",
    "\n",
    "df = pd.read_csv('walmart_opening_1962_2006.csv')\n",
    "df['year'] = df['opendate'].str[:4]\n",
    "df.head(10)"
   ]
  },
  {
   "cell_type": "code",
   "execution_count": null,
   "metadata": {},
   "outputs": [],
   "source": [
    "import matplotlib.pyplot as plt\n",
    "fig = plt.figure(figsize=(30,5))\n",
    "plt.bar(df.year.value_counts().sort_index().index, df.year.value_counts().sort_index().values)\n",
    "plt.title(\"Openings of Walmart throug time\")\n"
   ]
  },
  {
   "cell_type": "code",
   "execution_count": 49,
   "metadata": {},
   "outputs": [
    {
     "data": {
      "text/plain": [
       "array(['AL', 'AK', 'AZ', 'AR', 'CA', 'CO', 'CT', 'DE', 'DC', 'FL', 'GA',\n",
       "       'HI', 'ID', 'IL', 'IN', 'IA', 'KS', 'KY', 'LA', 'ME', 'MD', 'MA',\n",
       "       'MI', 'MN', 'MS', 'MO', 'MT', 'NE', 'NV', 'NH', 'NJ', 'NM', 'NY',\n",
       "       'NC', 'ND', 'OH', 'OK', 'OR', 'PA', 'RI', 'SC', 'SD', 'TN', 'TX',\n",
       "       'UT', 'VT', 'VA', 'WA', 'WV', 'WI', 'WY'], dtype=object)"
      ]
     },
     "execution_count": 49,
     "metadata": {},
     "output_type": "execute_result"
    }
   ],
   "source": [
    "df.State.unique()"
   ]
  },
  {
   "cell_type": "code",
   "execution_count": 62,
   "metadata": {},
   "outputs": [
    {
     "data": {
      "text/plain": [
       "datetime.date"
      ]
     },
     "execution_count": 62,
     "metadata": {},
     "output_type": "execute_result"
    }
   ],
   "source": [
    "import datetime\n",
    "date = datetime.date(2456,1, 23)\n",
    "type(date)"
   ]
  },
  {
   "cell_type": "code",
   "execution_count": 69,
   "metadata": {},
   "outputs": [
    {
     "data": {
      "text/html": [
       "<div>\n",
       "<style scoped>\n",
       "    .dataframe tbody tr th:only-of-type {\n",
       "        vertical-align: middle;\n",
       "    }\n",
       "\n",
       "    .dataframe tbody tr th {\n",
       "        vertical-align: top;\n",
       "    }\n",
       "\n",
       "    .dataframe thead th {\n",
       "        text-align: right;\n",
       "    }\n",
       "</style>\n",
       "<table border=\"1\" class=\"dataframe\">\n",
       "  <thead>\n",
       "    <tr style=\"text-align: right;\">\n",
       "      <th></th>\n",
       "      <th>Store_id</th>\n",
       "      <th>State</th>\n",
       "      <th>Town</th>\n",
       "      <th>Street</th>\n",
       "      <th>Category</th>\n",
       "      <th>Opening_date</th>\n",
       "      <th>Closing_date</th>\n",
       "    </tr>\n",
       "  </thead>\n",
       "  <tbody>\n",
       "    <tr>\n",
       "      <th>0</th>\n",
       "      <td>1158</td>\n",
       "      <td>AL</td>\n",
       "      <td>Adamsville</td>\n",
       "      <td>2473 Hackworth Rd.</td>\n",
       "      <td>Walmart Supercenter</td>\n",
       "      <td>1988-03-01</td>\n",
       "      <td>NaN</td>\n",
       "    </tr>\n",
       "    <tr>\n",
       "      <th>1</th>\n",
       "      <td>4756</td>\n",
       "      <td>AL</td>\n",
       "      <td>Alabaster</td>\n",
       "      <td>9085 Hwy 119</td>\n",
       "      <td>Neighborhood Market</td>\n",
       "      <td>2015-09-30</td>\n",
       "      <td>NaN</td>\n",
       "    </tr>\n",
       "    <tr>\n",
       "      <th>2</th>\n",
       "      <td>423</td>\n",
       "      <td>AL</td>\n",
       "      <td>Alabaster</td>\n",
       "      <td>630 Colonial Promenade Pkwy</td>\n",
       "      <td>Walmart Supercenter</td>\n",
       "      <td>1981-12-01</td>\n",
       "      <td>NaN</td>\n",
       "    </tr>\n",
       "    <tr>\n",
       "      <th>3</th>\n",
       "      <td>726</td>\n",
       "      <td>AL</td>\n",
       "      <td>Alexander City</td>\n",
       "      <td>2643 Highway 280</td>\n",
       "      <td>Walmart Supercenter</td>\n",
       "      <td>1981-08-04</td>\n",
       "      <td>NaN</td>\n",
       "    </tr>\n",
       "    <tr>\n",
       "      <th>4</th>\n",
       "      <td>1091</td>\n",
       "      <td>AL</td>\n",
       "      <td>Andalusia</td>\n",
       "      <td>1991 M L King Jr Expy</td>\n",
       "      <td>Walmart Supercenter</td>\n",
       "      <td>1987-10-01</td>\n",
       "      <td>NaN</td>\n",
       "    </tr>\n",
       "  </tbody>\n",
       "</table>\n",
       "</div>"
      ],
      "text/plain": [
       "  Store_id State            Town                       Street  \\\n",
       "0     1158    AL      Adamsville           2473 Hackworth Rd.   \n",
       "1     4756    AL       Alabaster                 9085 Hwy 119   \n",
       "2      423    AL       Alabaster  630 Colonial Promenade Pkwy   \n",
       "3      726    AL  Alexander City             2643 Highway 280   \n",
       "4     1091    AL       Andalusia        1991 M L King Jr Expy   \n",
       "\n",
       "              Category Opening_date Closing_date  \n",
       "0  Walmart Supercenter   1988-03-01          NaN  \n",
       "1  Neighborhood Market   2015-09-30          NaN  \n",
       "2  Walmart Supercenter   1981-12-01          NaN  \n",
       "3  Walmart Supercenter   1981-08-04          NaN  \n",
       "4  Walmart Supercenter   1987-10-01          NaN  "
      ]
     },
     "execution_count": 69,
     "metadata": {},
     "output_type": "execute_result"
    }
   ],
   "source": [
    "df.head()"
   ]
  },
  {
   "cell_type": "code",
   "execution_count": 95,
   "metadata": {},
   "outputs": [
    {
     "ename": "ValueError",
     "evalue": "month must be in 1..12",
     "output_type": "error",
     "traceback": [
      "\u001b[0;31m---------------------------------------------------------------------------\u001b[0m",
      "\u001b[0;31mValueError\u001b[0m                                Traceback (most recent call last)",
      "\u001b[0;32m/var/folders/2x/jyk25dss11q4zcwpyjj6vtx40000gn/T/ipykernel_4144/2536386737.py\u001b[0m in \u001b[0;36m<module>\u001b[0;34m\u001b[0m\n\u001b[0;32m----> 1\u001b[0;31m \u001b[0mdate\u001b[0m \u001b[0;34m=\u001b[0m \u001b[0mdatetime\u001b[0m\u001b[0;34m.\u001b[0m\u001b[0mdate\u001b[0m\u001b[0;34m(\u001b[0m\u001b[0;36m2001\u001b[0m\u001b[0;34m,\u001b[0m\u001b[0;36m0\u001b[0m\u001b[0;34m,\u001b[0m\u001b[0;36m0\u001b[0m\u001b[0;34m)\u001b[0m\u001b[0;34m\u001b[0m\u001b[0;34m\u001b[0m\u001b[0m\n\u001b[0m",
      "\u001b[0;31mValueError\u001b[0m: month must be in 1..12"
     ]
    }
   ],
   "source": [
    "date = datetime.date(2001,0,0)"
   ]
  },
  {
   "cell_type": "code",
   "execution_count": 108,
   "metadata": {},
   "outputs": [
    {
     "data": {
      "text/plain": [
       "85"
      ]
     },
     "execution_count": 108,
     "metadata": {},
     "output_type": "execute_result"
    }
   ],
   "source": [
    "len(df[df.Opening_date=='unknown'])"
   ]
  },
  {
   "cell_type": "code",
   "execution_count": 104,
   "metadata": {
    "scrolled": true
   },
   "outputs": [
    {
     "name": "stdout",
     "output_type": "stream",
     "text": [
      "2014\n",
      "2013\n",
      "October 3\n",
      "2013\n",
      "2013\n",
      "2009\n",
      "1992\n"
     ]
    }
   ],
   "source": [
    "\n",
    "import pandas as pd\n",
    "df = pd.read_csv('fandom_traitées.csv')\n",
    "\n",
    "for index, row in df.iterrows():\n",
    "    if len(row['Opening_date'])!= 10 and row['Opening_date']!='unknown':\n",
    "        print(row['Opening_date'])\n",
    "\n",
    "\n"
   ]
  },
  {
   "cell_type": "code",
   "execution_count": 44,
   "metadata": {},
   "outputs": [
    {
     "data": {
      "text/plain": [
       "10"
      ]
     },
     "execution_count": 44,
     "metadata": {},
     "output_type": "execute_result"
    }
   ],
   "source": [
    "df['Closing_year'] = df.Closing_date.str[-4:]\n",
    "df['Opening_year'] = df.Opening_date.str[-4:]\n",
    "df['Opening_month'] = df.Opening_date.str[:2]\n",
    "df['Closing_month'] = df.Closing_date.str[:2]\n",
    "len(df[df.Closing_year == '2017'])\n"
   ]
  },
  {
   "cell_type": "code",
   "execution_count": 45,
   "metadata": {},
   "outputs": [
    {
     "name": "stderr",
     "output_type": "stream",
     "text": [
      "/var/folders/2x/jyk25dss11q4zcwpyjj6vtx40000gn/T/ipykernel_4144/3599529141.py:4: UserWarning: Boolean Series key will be reindexed to match DataFrame index.\n",
      "  df[df.Closing_year == '2015'][df.Closing_month=='01']\n"
     ]
    },
    {
     "data": {
      "text/html": [
       "<div>\n",
       "<style scoped>\n",
       "    .dataframe tbody tr th:only-of-type {\n",
       "        vertical-align: middle;\n",
       "    }\n",
       "\n",
       "    .dataframe tbody tr th {\n",
       "        vertical-align: top;\n",
       "    }\n",
       "\n",
       "    .dataframe thead th {\n",
       "        text-align: right;\n",
       "    }\n",
       "</style>\n",
       "<table border=\"1\" class=\"dataframe\">\n",
       "  <thead>\n",
       "    <tr style=\"text-align: right;\">\n",
       "      <th></th>\n",
       "      <th>Store_id</th>\n",
       "      <th>State</th>\n",
       "      <th>Town</th>\n",
       "      <th>Street</th>\n",
       "      <th>Category</th>\n",
       "      <th>Opening_date</th>\n",
       "      <th>Closing_date</th>\n",
       "      <th>Closing_year</th>\n",
       "      <th>Opening_year</th>\n",
       "      <th>Opening_month</th>\n",
       "      <th>Closing_month</th>\n",
       "    </tr>\n",
       "  </thead>\n",
       "  <tbody>\n",
       "  </tbody>\n",
       "</table>\n",
       "</div>"
      ],
      "text/plain": [
       "Empty DataFrame\n",
       "Columns: [Store_id, State, Town, Street, Category, Opening_date, Closing_date, Closing_year, Opening_year, Opening_month, Closing_month]\n",
       "Index: []"
      ]
     },
     "execution_count": 45,
     "metadata": {},
     "output_type": "execute_result"
    }
   ],
   "source": [
    "df['Closing_year'] = df.Closing_date.str[-4:]\n",
    "df['Opening_year'] = df.Opening_date.str[-4:]\n",
    "pd.set_option('display.max_rows', 10)\n",
    "df[df.Closing_year == '2015'][df.Closing_month=='01'];"
   ]
  },
  {
   "cell_type": "code",
   "execution_count": null,
   "metadata": {},
   "outputs": [],
   "source": []
  },
  {
   "cell_type": "code",
   "execution_count": null,
   "metadata": {},
   "outputs": [],
   "source": [
    "from difflib import SequenceMatcher"
   ]
  },
  {
   "cell_type": "code",
   "execution_count": null,
   "metadata": {},
   "outputs": [],
   "source": [
    "for index, store in df[df.Closing_date == '2016'].iterrows():\n",
    "    if store['Town'] in list(df2['Town']):\n",
    "        for store2 in df[df.Town == store['Town']]:\n",
    "            print(df[df.Town == store['Town']])\n",
    "            if SequenceMatcher(None, store['Street'].capitalize(), store2['Street'].capitalize()).ratio() > 0.8:\n",
    "                print('coucou')\n",
    "                \n",
    "                "
   ]
  },
  {
   "cell_type": "code",
   "execution_count": 21,
   "metadata": {},
   "outputs": [
    {
     "data": {
      "text/html": [
       "<div>\n",
       "<style scoped>\n",
       "    .dataframe tbody tr th:only-of-type {\n",
       "        vertical-align: middle;\n",
       "    }\n",
       "\n",
       "    .dataframe tbody tr th {\n",
       "        vertical-align: top;\n",
       "    }\n",
       "\n",
       "    .dataframe thead th {\n",
       "        text-align: right;\n",
       "    }\n",
       "</style>\n",
       "<table border=\"1\" class=\"dataframe\">\n",
       "  <thead>\n",
       "    <tr style=\"text-align: right;\">\n",
       "      <th></th>\n",
       "      <th>Store_id</th>\n",
       "      <th>Street</th>\n",
       "      <th>Town</th>\n",
       "      <th>State</th>\n",
       "      <th>Closing_date</th>\n",
       "    </tr>\n",
       "  </thead>\n",
       "  <tbody>\n",
       "  </tbody>\n",
       "</table>\n",
       "</div>"
      ],
      "text/plain": [
       "Empty DataFrame\n",
       "Columns: [Store_id, Street, Town, State, Closing_date]\n",
       "Index: []"
      ]
     },
     "execution_count": 21,
     "metadata": {},
     "output_type": "execute_result"
    }
   ],
   "source": [
    "df2[df2.Town == 'Dickson City']"
   ]
  },
  {
   "cell_type": "code",
   "execution_count": 45,
   "metadata": {},
   "outputs": [
    {
     "data": {
      "text/html": [
       "<div>\n",
       "<style scoped>\n",
       "    .dataframe tbody tr th:only-of-type {\n",
       "        vertical-align: middle;\n",
       "    }\n",
       "\n",
       "    .dataframe tbody tr th {\n",
       "        vertical-align: top;\n",
       "    }\n",
       "\n",
       "    .dataframe thead th {\n",
       "        text-align: right;\n",
       "    }\n",
       "</style>\n",
       "<table border=\"1\" class=\"dataframe\">\n",
       "  <thead>\n",
       "    <tr style=\"text-align: right;\">\n",
       "      <th></th>\n",
       "      <th>Store_id</th>\n",
       "      <th>Street</th>\n",
       "      <th>Town</th>\n",
       "      <th>State</th>\n",
       "      <th>Closing_date</th>\n",
       "    </tr>\n",
       "  </thead>\n",
       "  <tbody>\n",
       "    <tr>\n",
       "      <th>0</th>\n",
       "      <td>2173</td>\n",
       "      <td>14331 Count Rd. 99</td>\n",
       "      <td>Headland</td>\n",
       "      <td>AL</td>\n",
       "      <td>1/28/2016</td>\n",
       "    </tr>\n",
       "    <tr>\n",
       "      <th>1</th>\n",
       "      <td>2011</td>\n",
       "      <td>18 Apple Way</td>\n",
       "      <td>Ashford</td>\n",
       "      <td>AL</td>\n",
       "      <td>1/28/2016</td>\n",
       "    </tr>\n",
       "    <tr>\n",
       "      <th>2</th>\n",
       "      <td>2165</td>\n",
       "      <td>952 E. Lawrence Harris Hwy</td>\n",
       "      <td>Slocomb</td>\n",
       "      <td>AL</td>\n",
       "      <td>1/28/2016</td>\n",
       "    </tr>\n",
       "    <tr>\n",
       "      <th>3</th>\n",
       "      <td>2186</td>\n",
       "      <td>407 West Washington St.</td>\n",
       "      <td>Abbeville</td>\n",
       "      <td>AL</td>\n",
       "      <td>1/28/2016</td>\n",
       "    </tr>\n",
       "    <tr>\n",
       "      <th>4</th>\n",
       "      <td>2235</td>\n",
       "      <td>6361 Hwy 72</td>\n",
       "      <td>East Gurley</td>\n",
       "      <td>AL</td>\n",
       "      <td>1/28/2016</td>\n",
       "    </tr>\n",
       "  </tbody>\n",
       "</table>\n",
       "</div>"
      ],
      "text/plain": [
       "   Store_id                      Street         Town State Closing_date\n",
       "0      2173          14331 Count Rd. 99     Headland    AL    1/28/2016\n",
       "1      2011                18 Apple Way      Ashford    AL    1/28/2016\n",
       "2      2165  952 E. Lawrence Harris Hwy      Slocomb    AL    1/28/2016\n",
       "3      2186     407 West Washington St.    Abbeville    AL    1/28/2016\n",
       "4      2235                 6361 Hwy 72  East Gurley    AL    1/28/2016"
      ]
     },
     "execution_count": 45,
     "metadata": {},
     "output_type": "execute_result"
    }
   ],
   "source": [
    "df2 = pd.read_csv('wallmart_exit2016_données_traitées.csv')\n",
    "df2.head()"
   ]
  },
  {
   "cell_type": "code",
   "execution_count": 73,
   "metadata": {},
   "outputs": [
    {
     "data": {
      "text/html": [
       "<div>\n",
       "<style scoped>\n",
       "    .dataframe tbody tr th:only-of-type {\n",
       "        vertical-align: middle;\n",
       "    }\n",
       "\n",
       "    .dataframe tbody tr th {\n",
       "        vertical-align: top;\n",
       "    }\n",
       "\n",
       "    .dataframe thead th {\n",
       "        text-align: right;\n",
       "    }\n",
       "</style>\n",
       "<table border=\"1\" class=\"dataframe\">\n",
       "  <thead>\n",
       "    <tr style=\"text-align: right;\">\n",
       "      <th></th>\n",
       "      <th>Store_id</th>\n",
       "      <th>Street</th>\n",
       "      <th>Town</th>\n",
       "      <th>State</th>\n",
       "      <th>Closing_date</th>\n",
       "    </tr>\n",
       "  </thead>\n",
       "  <tbody>\n",
       "  </tbody>\n",
       "</table>\n",
       "</div>"
      ],
      "text/plain": [
       "Empty DataFrame\n",
       "Columns: [Store_id, Street, Town, State, Closing_date]\n",
       "Index: []"
      ]
     },
     "execution_count": 73,
     "metadata": {},
     "output_type": "execute_result"
    }
   ],
   "source": [
    "df2[df2.Town == 'Aurora']"
   ]
  },
  {
   "cell_type": "code",
   "execution_count": null,
   "metadata": {},
   "outputs": [],
   "source": [
    "with open('wallmart_exit2016.txt') as f:\n",
    "    content = f.read()\n",
    "for number in df2['Unnamed: 1']:\n",
    "    if str(number) in content:\n",
    "        print(number)"
   ]
  },
  {
   "cell_type": "code",
   "execution_count": null,
   "metadata": {},
   "outputs": [],
   "source": [
    "df[df.Town == \"Pacolet\"]"
   ]
  },
  {
   "cell_type": "code",
   "execution_count": 103,
   "metadata": {},
   "outputs": [
    {
     "data": {
      "text/html": [
       "<div>\n",
       "<style scoped>\n",
       "    .dataframe tbody tr th:only-of-type {\n",
       "        vertical-align: middle;\n",
       "    }\n",
       "\n",
       "    .dataframe tbody tr th {\n",
       "        vertical-align: top;\n",
       "    }\n",
       "\n",
       "    .dataframe thead th {\n",
       "        text-align: right;\n",
       "    }\n",
       "</style>\n",
       "<table border=\"1\" class=\"dataframe\">\n",
       "  <thead>\n",
       "    <tr style=\"text-align: right;\">\n",
       "      <th></th>\n",
       "      <th>opendate</th>\n",
       "      <th>st.address</th>\n",
       "      <th>city</th>\n",
       "      <th>state</th>\n",
       "      <th>long</th>\n",
       "      <th>lat</th>\n",
       "      <th>type</th>\n",
       "    </tr>\n",
       "  </thead>\n",
       "  <tbody>\n",
       "    <tr>\n",
       "      <th>2293</th>\n",
       "      <td>1997-01-10</td>\n",
       "      <td>900 COMMERCE BLVD</td>\n",
       "      <td>Dickson City</td>\n",
       "      <td>PA</td>\n",
       "      <td>-75.62478</td>\n",
       "      <td>41.46213</td>\n",
       "      <td>SuperCenter</td>\n",
       "    </tr>\n",
       "  </tbody>\n",
       "</table>\n",
       "</div>"
      ],
      "text/plain": [
       "        opendate         st.address          city state      long       lat  \\\n",
       "2293  1997-01-10  900 COMMERCE BLVD  Dickson City    PA -75.62478  41.46213   \n",
       "\n",
       "             type  \n",
       "2293  SuperCenter  "
      ]
     },
     "execution_count": 103,
     "metadata": {},
     "output_type": "execute_result"
    }
   ],
   "source": [
    "df3[df3.city==\"Dickson City\"]"
   ]
  },
  {
   "cell_type": "code",
   "execution_count": 98,
   "metadata": {},
   "outputs": [],
   "source": [
    "df3 = pd.read_csv('walmart_opening_1962_2006.csv')"
   ]
  },
  {
   "cell_type": "code",
   "execution_count": null,
   "metadata": {},
   "outputs": [],
   "source": []
  }
 ],
 "metadata": {
  "kernelspec": {
   "display_name": "Python 3 (ipykernel)",
   "language": "python",
   "name": "python3"
  },
  "language_info": {
   "codemirror_mode": {
    "name": "ipython",
    "version": 3
   },
   "file_extension": ".py",
   "mimetype": "text/x-python",
   "name": "python",
   "nbconvert_exporter": "python",
   "pygments_lexer": "ipython3",
   "version": "3.9.5"
  },
  "vscode": {
   "interpreter": {
    "hash": "3d597f4c481aa0f25dceb95d2a0067e73c0966dcbd003d741d821a7208527ecf"
   }
  }
 },
 "nbformat": 4,
 "nbformat_minor": 2
}
