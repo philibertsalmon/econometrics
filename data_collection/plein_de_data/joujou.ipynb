{
 "cells": [
  {
   "cell_type": "code",
   "execution_count": 1,
   "metadata": {},
   "outputs": [
    {
     "data": {
      "text/html": [
       "<div>\n",
       "<style scoped>\n",
       "    .dataframe tbody tr th:only-of-type {\n",
       "        vertical-align: middle;\n",
       "    }\n",
       "\n",
       "    .dataframe tbody tr th {\n",
       "        vertical-align: top;\n",
       "    }\n",
       "\n",
       "    .dataframe thead th {\n",
       "        text-align: right;\n",
       "    }\n",
       "</style>\n",
       "<table border=\"1\" class=\"dataframe\">\n",
       "  <thead>\n",
       "    <tr style=\"text-align: right;\">\n",
       "      <th></th>\n",
       "      <th>opendate</th>\n",
       "      <th>st.address</th>\n",
       "      <th>city</th>\n",
       "      <th>state</th>\n",
       "      <th>long</th>\n",
       "      <th>lat</th>\n",
       "      <th>type</th>\n",
       "    </tr>\n",
       "  </thead>\n",
       "  <tbody>\n",
       "    <tr>\n",
       "      <th>0</th>\n",
       "      <td>1962-03-01</td>\n",
       "      <td>5801 SW Regional Airport Blvd</td>\n",
       "      <td>Bentonville</td>\n",
       "      <td>AR</td>\n",
       "      <td>-94.239816</td>\n",
       "      <td>36.350885</td>\n",
       "      <td>DistributionCenter</td>\n",
       "    </tr>\n",
       "    <tr>\n",
       "      <th>1</th>\n",
       "      <td>1962-07-01</td>\n",
       "      <td>2110 WEST WALNUT</td>\n",
       "      <td>Rogers</td>\n",
       "      <td>AR</td>\n",
       "      <td>-94.071410</td>\n",
       "      <td>36.342235</td>\n",
       "      <td>SuperCenter</td>\n",
       "    </tr>\n",
       "    <tr>\n",
       "      <th>2</th>\n",
       "      <td>1964-08-01</td>\n",
       "      <td>1417 HWY 62/65 N</td>\n",
       "      <td>Harrison</td>\n",
       "      <td>AR</td>\n",
       "      <td>-93.093450</td>\n",
       "      <td>36.236984</td>\n",
       "      <td>SuperCenter</td>\n",
       "    </tr>\n",
       "    <tr>\n",
       "      <th>3</th>\n",
       "      <td>1965-08-01</td>\n",
       "      <td>2901 HWY 412 EAST</td>\n",
       "      <td>Siloam Springs</td>\n",
       "      <td>AR</td>\n",
       "      <td>-94.502080</td>\n",
       "      <td>36.179905</td>\n",
       "      <td>SuperCenter</td>\n",
       "    </tr>\n",
       "    <tr>\n",
       "      <th>4</th>\n",
       "      <td>1967-10-01</td>\n",
       "      <td>3801 CAMP ROBINSON RD.</td>\n",
       "      <td>North Little Rock</td>\n",
       "      <td>AR</td>\n",
       "      <td>-92.302290</td>\n",
       "      <td>34.813269</td>\n",
       "      <td>Wal-MartStore</td>\n",
       "    </tr>\n",
       "  </tbody>\n",
       "</table>\n",
       "</div>"
      ],
      "text/plain": [
       "     opendate                     st.address               city state  \\\n",
       "0  1962-03-01  5801 SW Regional Airport Blvd        Bentonville    AR   \n",
       "1  1962-07-01               2110 WEST WALNUT             Rogers    AR   \n",
       "2  1964-08-01               1417 HWY 62/65 N           Harrison    AR   \n",
       "3  1965-08-01              2901 HWY 412 EAST     Siloam Springs    AR   \n",
       "4  1967-10-01         3801 CAMP ROBINSON RD.  North Little Rock    AR   \n",
       "\n",
       "        long        lat                type  \n",
       "0 -94.239816  36.350885  DistributionCenter  \n",
       "1 -94.071410  36.342235         SuperCenter  \n",
       "2 -93.093450  36.236984         SuperCenter  \n",
       "3 -94.502080  36.179905         SuperCenter  \n",
       "4 -92.302290  34.813269       Wal-MartStore  "
      ]
     },
     "execution_count": 1,
     "metadata": {},
     "output_type": "execute_result"
    }
   ],
   "source": [
    "import pandas as pd\n",
    "\n",
    "df = pd.read_csv('walmart_opening_1962_2006.csv')\n",
    "df.head()"
   ]
  },
  {
   "cell_type": "code",
   "execution_count": 2,
   "metadata": {},
   "outputs": [
    {
     "data": {
      "text/plain": [
       "array(['DistributionCenter', 'SuperCenter', 'Wal-MartStore'], dtype=object)"
      ]
     },
     "execution_count": 2,
     "metadata": {},
     "output_type": "execute_result"
    }
   ],
   "source": [
    "df.type.unique()"
   ]
  },
  {
   "cell_type": "code",
   "execution_count": null,
   "metadata": {},
   "outputs": [],
   "source": []
  }
 ],
 "metadata": {
  "kernelspec": {
   "display_name": "Python 3.9.5 ('base')",
   "language": "python",
   "name": "python3"
  },
  "language_info": {
   "codemirror_mode": {
    "name": "ipython",
    "version": 3
   },
   "file_extension": ".py",
   "mimetype": "text/x-python",
   "name": "python",
   "nbconvert_exporter": "python",
   "pygments_lexer": "ipython3",
   "version": "3.9.5"
  },
  "orig_nbformat": 4,
  "vscode": {
   "interpreter": {
    "hash": "3d597f4c481aa0f25dceb95d2a0067e73c0966dcbd003d741d821a7208527ecf"
   }
  }
 },
 "nbformat": 4,
 "nbformat_minor": 2
}
