{
 "cells": [
  {
   "cell_type": "markdown",
   "id": "f2db7be5",
   "metadata": {},
   "source": [
    "### Research "
   ]
  },
  {
   "cell_type": "code",
   "execution_count": null,
   "id": "650df584",
   "metadata": {},
   "outputs": [],
   "source": [
    "# checking cities btw the two df (uscities and modified fandom)\n",
    "\n",
    "df = pd.read_csv(r'C:\\Users\\inesn\\Documents\\Mines\\2A\\TR\\econometrics\\data_collection\\plein_de_data\\fandom_traitées.csv', parse_dates = [\"Opening_date\", \"Closing_date\"])\n",
    "\n",
    "n_tot = 0\n",
    "for state in df.State.unique():\n",
    "    for city in df[df.State == state].Town.unique():\n",
    "        if city not in uscities[uscities.state_id == state].city.unique() :\n",
    "            n_tot+=1\n",
    "print(n_tot)"
   ]
  },
  {
   "cell_type": "code",
   "execution_count": null,
   "id": "5d8853bc",
   "metadata": {},
   "outputs": [],
   "source": [
    "import geopandas as gpd\n",
    "import contextily as cx\n",
    "import pandas as pd\n",
    "import matplotlib.pyplot as plt\n",
    "import numpy as np\n",
    "import matplotlib.patches as pa\n",
    "from matplotlib.lines import Line2D\n",
    "\n",
    "long_min = - 128\n",
    "long_max = -65\n",
    "lat_min = 23\n",
    "lat_max = 51\n",
    "\n",
    "#collecte de la dataframe...\n",
    "df = pd.read_csv('test_data.csv', parse_dates = [\"Opening_date\", \"Closing_date\"])\n",
    "df = df[['Latitude', 'Longitude', 'State']]\n",
    "df.head()\n",
    "\n",
    "#conversion en geodataframe\n",
    "gdf = gpd.GeoDataFrame(df, geometry=gpd.points_from_xy(df.Longitude, df.Latitude), crs='EPSG:4326')\n",
    "\n",
    "#création des couleurs/tailles de points\n",
    "def couleur(a): # couleur d'un point du graphique en fonction de a la date du séisme en km\n",
    "    if a == \"opened\":\n",
    "        return 'purple'\n",
    "    elif a == \"closed\":\n",
    "        return 'blue'\n",
    "    elif a == \"opened-closed\":\n",
    "        return 'green'\n",
    "    return 'yellow'\n",
    "\n",
    "vcouleur = np.vectorize(couleur)\n",
    "\n",
    "color=vcouleur(df['State'])\n",
    "\n",
    "fig, ax = plt.subplots() #gdf.plot(kind='scatter', y='Latitude', x='Longitude', s=magn_2, c=prof, edgecolors='k', linewidth = 0.6)\n",
    "ax.set_xlim(long_min, long_max)\n",
    "ax.set_ylim(lat_min, lat_max)\n",
    "cx.add_basemap(ax, crs = gdf.crs, source=cx.providers.OpenStreetMap.Mapnik) #OpenStreetMap.Mapnik\n",
    "\n",
    "line1 = Line2D(range(1), range(1), color=\"purple\", marker='o', markerfacecolor=\"purple\")\n",
    "line2 = Line2D(range(1), range(1), color=\"blue\", marker='o',markerfacecolor=\"blue\")\n",
    "line3 = Line2D(range(1), range(1), color=\"cyan\", marker='o', markerfacecolor=\"cyan\")\n",
    "line4 = Line2D(range(1), range(1), color=\"green\", marker='o',markerfacecolor=\"green\")\n",
    "line5 = Line2D(range(1), range(1), color=\"yellow\", marker='o',markerfacecolor=\"yellow\")\n",
    "#plt.legend((line1,line2,line3,line4, line5),('< 2 km', '2-4 km', '4-6 km', '6-8 km', '8-10 km'),numpoints=1, loc='lower right',title = 'Profondeur',borderpad = 0.5, labelspacing = 0.5)\n",
    "\n",
    "plt.show()"
   ]
  },
  {
   "cell_type": "code",
   "execution_count": null,
   "id": "f0a41c37",
   "metadata": {},
   "outputs": [],
   "source": [
    "import pandas as pd\n",
    "import matplotlib.pyplot as plt\n",
    "import numpy as np\n",
    "import matplotlib.patches as pa\n",
    "from matplotlib.lines import Line2D\n",
    "\n",
    "long_min = - 128\n",
    "long_max = -65\n",
    "lat_min = 23\n",
    "long_max = 51\n",
    "\n",
    "#collecte de la dataframe...\n",
    "df = pd.read_csv('test_data.csv', parse_dates = [\"Opening_date\", \"Closing_date\"])\n",
    "\n",
    "df.head()"
   ]
  },
  {
   "cell_type": "code",
   "execution_count": null,
   "id": "f199212e",
   "metadata": {},
   "outputs": [],
   "source": [
    "import geopandas as gpd\n",
    "import contextily as cx\n",
    "import pandas as pd\n",
    "import matplotlib.pyplot as plt\n",
    "import numpy as np\n",
    "import matplotlib.patches as pa\n",
    "from matplotlib.lines import Line2D\n",
    "\n",
    "long_min = - 128\n",
    "long_max = -65\n",
    "lat_min = 23\n",
    "lat_max = 51\n",
    "\n",
    "#collecte de la dataframe...\n",
    "df = pd.read_csv('test_data.csv', parse_dates = [\"Opening_date\", \"Closing_date\"])\n",
    "df = df[['Latitude', 'Longitude', 'State']]\n",
    "df.head()\n",
    "\n",
    "#conversion en geodataframe\n",
    "gdf = gpd.GeoDataFrame(df, geometry=gpd.points_from_xy(df.Longitude, df.Latitude), crs='EPSG:4326')\n",
    "\n",
    "fig, ax = plt.subplots() #gdf.plot(kind='scatter', y='Latitude', x='Longitude', s=magn_2, c=prof, edgecolors='k', linewidth = 0.6)\n",
    "ax.set_xlim(long_min, long_max)\n",
    "ax.set_ylim(lat_min, lat_max)\n",
    "cx.add_basemap(ax, crs = gdf.crs, source=cx.providers.OpenStreetMap.Mapnik) #OpenStreetMap.Mapnik\n",
    "\n",
    "plt.show()"
   ]
  },
  {
   "cell_type": "code",
   "execution_count": null,
   "id": "d52dd06e",
   "metadata": {},
   "outputs": [],
   "source": [
    "import pandas as pd\n",
    "import matplotlib.pyplot as plt\n",
    "import numpy as np\n",
    "import geopandas as gpd\n",
    "\n",
    "#uscities df\n",
    "uscities = pd.read_csv('uscities.csv')\n",
    "uscities = uscities[[\"city\", \"state_id\", \"lat\", \"lng\"]]\n",
    "\n",
    "#our df\n",
    "df = pd.read_csv(r'C:\\Users\\inesn\\Documents\\Mines\\2A\\TR\\econometrics\\data_collection\\plein_de_data\\fandom_traitées.csv', parse_dates = [\"Opening_date\", \"Closing_date\"])\n",
    "\n",
    "#creating boolean columns for entry/exit in 2016 (no entry and exit in 2016 for a single store)\n",
    "df['opened_2016'] = (df.Opening_date>='2016-01-31')&(df.Opening_date<'2017-01-31')\n",
    "df['closed_2016'] = (df.Closing_date>='2016-01-31')&(df.Closing_date<'2017-01-31')\n",
    "\n",
    "#keeping only stores with entry/exit in 2016\n",
    "df = df[df.opened_2016 | df.closed_2016]\n",
    "\n",
    "#designing the red-orange-green color code and the size code\n",
    "#assuming that there isn't 2 cities with same name in same state in our database\n",
    "df_test = df.groupby(['Town','State'])['Store_id'].count().rename('count').to_frame()\n",
    "df2 = df.groupby(['Town','State'])['opened_2016'].any().rename('opened_2016_city').to_frame()\n",
    "df3 = df.groupby(['Town','State'])['closed_2016'].any().rename('closed_2016_city').to_frame()\n",
    "df4 = df2.merge(df3, how = \"outer\", on = ['Town','State'])\n",
    "df4 = df4.merge(df_test, how = \"outer\", on = ['Town','State'])\n",
    "def legend(x):\n",
    "    if x == 1 :\n",
    "        return 'Entry'\n",
    "    if x == 2 :\n",
    "        return 'Exit'\n",
    "    return 'Both'\n",
    "legend_v = np.vectorize(legend)\n",
    "df4['Walmart entry or/and exit (2016, per city)']= legend_v(1*df4['opened_2016_city']+2*df4['closed_2016_city'])\n",
    "map_data = pd.merge(df4, uscities,  how='inner', left_on=['Town','State'], right_on = ['city','state_id'])\n",
    "\n",
    "#plotting the map\n",
    "geo_map_data = gpd.GeoDataFrame(\n",
    "    map_data, geometry=gpd.points_from_xy(map_data.lng, map_data.lat))\n",
    "geo_map_data.crs = 'EPSG:4326'\n",
    "geo_map_data.explore(column='Walmart entry or/and exit (2016, per city)', cmap=[\"blue\",\"green\",\"red\"], \n",
    "                     style_kwds={\"style_function\": lambda x: {\"radius\": x[\"properties\"][\"count\"]*2}})"
   ]
  },
  {
   "cell_type": "markdown",
   "id": "9ba542bf",
   "metadata": {},
   "source": [
    "### Plot Maps (County Maps)"
   ]
  },
  {
   "cell_type": "code",
   "execution_count": 1,
   "id": "4ddc1829",
   "metadata": {},
   "outputs": [],
   "source": [
    "import geopandas as gpd\n",
    "import pandas as pd\n",
    "import matplotlib.pyplot as plt\n",
    "import numpy as np\n",
    "\n",
    "#counties basemap\n",
    "shape_path = 'cb_2018_us_county_5m.shp'\n",
    "shape = gpd.read_file(shape_path)\n",
    "\n",
    "#withdrawal of counties outside of continental America\n",
    "mask = (shape.STATEFP==\"02\")|(shape.STATEFP==\"15\")|(shape.STATEFP==\"60\")|(shape.STATEFP==\"69\")|(shape.STATEFP==\"66\")|(shape.STATEFP==\"78\")|(shape.STATEFP==\"72\")\n",
    "continent_shape = shape.drop(shape[mask].index)"
   ]
  },
  {
   "cell_type": "code",
   "execution_count": 2,
   "id": "1cd2e383",
   "metadata": {},
   "outputs": [],
   "source": [
    "continent_shape = continent_shape.dropna()"
   ]
  },
  {
   "cell_type": "code",
   "execution_count": 3,
   "id": "b331e254",
   "metadata": {},
   "outputs": [
    {
     "ename": "NameError",
     "evalue": "name 'geo_map_data' is not defined",
     "output_type": "error",
     "traceback": [
      "\u001b[1;31m---------------------------------------------------------------------------\u001b[0m",
      "\u001b[1;31mNameError\u001b[0m                                 Traceback (most recent call last)",
      "Cell \u001b[1;32mIn [3], line 13\u001b[0m\n\u001b[0;32m     10\u001b[0m     \u001b[38;5;28;01mreturn\u001b[39;00m \u001b[38;5;241m0\u001b[39m\n\u001b[0;32m     12\u001b[0m legend2_v \u001b[38;5;241m=\u001b[39m np\u001b[38;5;241m.\u001b[39mvectorize(legend2)\n\u001b[1;32m---> 13\u001b[0m geo_map_data[\u001b[38;5;124m'\u001b[39m\u001b[38;5;124mcolor\u001b[39m\u001b[38;5;124m'\u001b[39m]\u001b[38;5;241m=\u001b[39m legend2_v(geo_map_data[\u001b[38;5;124m'\u001b[39m\u001b[38;5;124mWalmart store entry or/and exit (2016, per city)\u001b[39m\u001b[38;5;124m'\u001b[39m])\n\u001b[0;32m     14\u001b[0m cmap \u001b[38;5;241m=\u001b[39m LinearSegmentedColormap\u001b[38;5;241m.\u001b[39mfrom_list(\n\u001b[0;32m     15\u001b[0m     \u001b[38;5;124m'\u001b[39m\u001b[38;5;124mmycmap\u001b[39m\u001b[38;5;124m'\u001b[39m, [(\u001b[38;5;241m0\u001b[39m, \u001b[38;5;124m'\u001b[39m\u001b[38;5;124mblue\u001b[39m\u001b[38;5;124m'\u001b[39m), (\u001b[38;5;241m0.6\u001b[39m, \u001b[38;5;124m'\u001b[39m\u001b[38;5;124mgreen\u001b[39m\u001b[38;5;124m'\u001b[39m), (\u001b[38;5;241m1\u001b[39m, \u001b[38;5;124m'\u001b[39m\u001b[38;5;124mred\u001b[39m\u001b[38;5;124m'\u001b[39m)])\n\u001b[0;32m     18\u001b[0m \u001b[38;5;66;03m#plot continental US\u001b[39;00m\n",
      "\u001b[1;31mNameError\u001b[0m: name 'geo_map_data' is not defined"
     ]
    }
   ],
   "source": [
    "#dots' colors\n",
    "\n",
    "from matplotlib.colors import LinearSegmentedColormap\n",
    "\n",
    "def legend2(x):\n",
    "    if x == 'Entry only' :\n",
    "        return 0.6\n",
    "    if x == 'Exit only' :\n",
    "        return 1\n",
    "    return 0\n",
    "\n",
    "legend2_v = np.vectorize(legend2)\n",
    "geo_map_data['color']= legend2_v(geo_map_data['Walmart store entry or/and exit (2016, per city)'])\n",
    "cmap = LinearSegmentedColormap.from_list(\n",
    "    'mycmap', [(0, 'blue'), (0.6, 'green'), (1, 'red')])\n",
    "\n",
    "\n",
    "#plot continental US\n",
    "cont_geo_map_data= geo_map_data.drop(geo_map_data[geo_map_data.State == \"AK\"].index)\n",
    "base = continent_shape.boundary.plot(figsize=(15, 7), linewidth = 0.3, zorder = 1)\n",
    "ax = cont_geo_map_data.plot(ax=base, marker='o', column ='Walmart store entry or/and exit (2016, per city)', legend=True, categorical = True, markersize=(cont_geo_map_data[\"Stores' changes\"]*20), cmap = cmap, edgecolors = \"black\", linewidth = 0.3, zorder=2)\n",
    "plt.xlabel(\"Longitude (°)\")\n",
    "plt.ylabel(\"Latitude (°)\")\n",
    "plt.title(\"Walmart stores exit and entry per city in the contiguous United States (January, 1, 2016 - January 31, 2017)\")\n",
    "plt.show()"
   ]
  },
  {
   "cell_type": "code",
   "execution_count": null,
   "id": "cf2ebcdb",
   "metadata": {},
   "outputs": [],
   "source": [
    "#plot state by state\n",
    "geo_map_data['State_nb']= geo_map_data['county_fips'].astype(str).str[0:-3]\n",
    "for state in geo_map_data.State.unique():\n",
    "    fig = plt.figure()\n",
    "    geo_map_data2= geo_map_data[geo_map_data.State == state]\n",
    "    statefp = geo_map_data2['State_nb'].iloc[0]\n",
    "    if len(statefp)==1:\n",
    "        statefp = '0'+statefp\n",
    "    base = shape[shape.STATEFP == statefp].boundary.plot(figsize=(15, 7), linewidth = 0.3, zorder = 1)\n",
    "    ax = geo_map_data2.plot(ax=base, marker='o', column ='Walmart store entry or/and exit (2016, per city)', legend=True, categorical = True, markersize=(cont_geo_map_data[\"Stores' changes\"]*20), cmap = cmap, edgecolors = \"black\", linewidth = 0.3, zorder=2)\n",
    "    plt.xlabel(\"Longitude (°)\")\n",
    "    plt.ylabel(\"Latitude (°)\")\n",
    "    plt.title(f\"{state} - Walmart stores exit and entry per city (January, 1, 2016 - January 31, 2017)\")\n",
    "    plt.show()"
   ]
  },
  {
   "cell_type": "markdown",
   "id": "493d4f4c",
   "metadata": {},
   "source": [
    "For each city where there is at least an entry or exit, the circle's radius is proportional to the number of stores' openings and closings (stores' changes) in the city for year 2016 (from January, 1, 2016 to January 31, 2017)."
   ]
  },
  {
   "cell_type": "code",
   "execution_count": null,
   "id": "c28e5213",
   "metadata": {},
   "outputs": [],
   "source": []
  }
 ],
 "metadata": {
  "kernelspec": {
   "display_name": "Python 3.9.7 ('snake')",
   "language": "python",
   "name": "python3"
  },
  "language_info": {
   "codemirror_mode": {
    "name": "ipython",
    "version": 3
   },
   "file_extension": ".py",
   "mimetype": "text/x-python",
   "name": "python",
   "nbconvert_exporter": "python",
   "pygments_lexer": "ipython3",
   "version": "3.9.7"
  },
  "vscode": {
   "interpreter": {
    "hash": "503c9cfa2ab51cf3c48a13122fb32766b4c77670bfcb32af7dd9442cba80e8bd"
   }
  }
 },
 "nbformat": 4,
 "nbformat_minor": 5
}
