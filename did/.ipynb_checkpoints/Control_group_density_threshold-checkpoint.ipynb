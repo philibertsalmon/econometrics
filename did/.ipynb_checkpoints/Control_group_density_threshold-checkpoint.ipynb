{
 "cells": [
  {
   "cell_type": "code",
   "execution_count": 2,
   "id": "5a86533f",
   "metadata": {},
   "outputs": [],
   "source": [
    "import pandas as pd\n",
    "import numpy as np\n",
    "import statsmodels.formula.api as smf\n",
    "import matplotlib.pyplot as plt"
   ]
  },
  {
   "cell_type": "code",
   "execution_count": 3,
   "id": "3bd12e3a",
   "metadata": {},
   "outputs": [],
   "source": [
    "nielsen15 = pd.read_csv('../../Nielsen/aggregated_nielsen_2015.csv')\n",
    "nielsen16 = pd.read_csv('../..//Nielsen/aggregated_nielsen_2016.csv')\n",
    "nielsen15['year'] = 2015\n",
    "nielsen16['year'] = 2016\n",
    "\n",
    "nielsen = pd.concat((nielsen15, nielsen16))"
   ]
  },
  {
   "cell_type": "code",
   "execution_count": 4,
   "id": "21b32fba",
   "metadata": {},
   "outputs": [],
   "source": [
    "density_path = r\"C:\\Users\\inesn\\Documents\\Mines\\2A\\TR\\econometrics\\data_collection\\plein_de_data\\Average_Household_Size_and_Population_Density_-_County.csv\"\n",
    "density = pd.read_csv(density_path)"
   ]
  },
  {
   "cell_type": "code",
   "execution_count": 5,
   "id": "29e2b4a5",
   "metadata": {},
   "outputs": [],
   "source": [
    "density = density[[\"GEOID\", \"B01001_calc_PopDensity\"]]"
   ]
  },
  {
   "cell_type": "code",
   "execution_count": 6,
   "id": "eb630b1e",
   "metadata": {},
   "outputs": [],
   "source": [
    "# We choose to focus on milk prices\n",
    "milk = nielsen[nielsen.product_group_descr == 'MILK']\n",
    "#print(milk.shape[0])"
   ]
  },
  {
   "cell_type": "code",
   "execution_count": 7,
   "id": "b87f18b9",
   "metadata": {},
   "outputs": [],
   "source": [
    "milk_d = pd.merge(milk, density,  how='inner', left_on='guessed_store_county_fips', right_on='GEOID')\n",
    "#print(milk_d.shape[0])\n",
    "#milk_d.head()"
   ]
  },
  {
   "cell_type": "code",
   "execution_count": 8,
   "id": "68f04341",
   "metadata": {},
   "outputs": [],
   "source": [
    "## Entriy/exit dates\n",
    "fandom = pd.read_csv('../data_collection/plein_de_data/fandom_traitées.csv', parse_dates=['Opening_date', 'Closing_date'])[['State', 'County_name', 'County_fips', 'Opening_date', 'Closing_date']]\n",
    "\n",
    "# We drop the state in which we do not trust our data (some mistakes stil remain)\n",
    "fandom = fandom[~np.isin(fandom.State, ('CA', 'GA', 'KS', 'LA', 'TX'))]\n",
    "\n",
    "# We concentrate our study on the movements (entries & exits) during the fiscal years 2015 and 2016\n",
    "movements = fandom[((fandom.Opening_date >= '2015-01-31') & (fandom.Opening_date <= '2017-01-31')) | ((fandom.Closing_date >= '2015-01-31') & (fandom.Closing_date <= '2017-01-31'))]\n",
    "#movements['year'] = movements.Opening_date.dt.year\n",
    "#movements['month'] = movements.Opening_date.dt.month"
   ]
  },
  {
   "cell_type": "code",
   "execution_count": 9,
   "id": "7dff119b",
   "metadata": {
    "scrolled": false
   },
   "outputs": [
    {
     "name": "stdout",
     "output_type": "stream",
     "text": [
      "Size of the control group: 2322.\n",
      "Size of the treatment group: 89.\n"
     ]
    },
    {
     "data": {
      "text/html": [
       "<div>\n",
       "<style scoped>\n",
       "    .dataframe tbody tr th:only-of-type {\n",
       "        vertical-align: middle;\n",
       "    }\n",
       "\n",
       "    .dataframe tbody tr th {\n",
       "        vertical-align: top;\n",
       "    }\n",
       "\n",
       "    .dataframe thead th {\n",
       "        text-align: right;\n",
       "    }\n",
       "</style>\n",
       "<table border=\"1\" class=\"dataframe\">\n",
       "  <thead>\n",
       "    <tr style=\"text-align: right;\">\n",
       "      <th></th>\n",
       "      <th>guessed_store_county_fips</th>\n",
       "      <th>purchase_year</th>\n",
       "      <th>purchase_month</th>\n",
       "      <th>upc_price</th>\n",
       "      <th>upc_price_std</th>\n",
       "      <th>nb_of_obs</th>\n",
       "      <th>year</th>\n",
       "      <th>GEOID</th>\n",
       "      <th>B01001_calc_PopDensity</th>\n",
       "      <th>County_fips</th>\n",
       "    </tr>\n",
       "  </thead>\n",
       "  <tbody>\n",
       "    <tr>\n",
       "      <th>count</th>\n",
       "      <td>3981.000000</td>\n",
       "      <td>3981.000000</td>\n",
       "      <td>3981.000000</td>\n",
       "      <td>3981.000000</td>\n",
       "      <td>3918.000000</td>\n",
       "      <td>3981.00000</td>\n",
       "      <td>3981.000000</td>\n",
       "      <td>3981.000000</td>\n",
       "      <td>3981.000000</td>\n",
       "      <td>3981.000000</td>\n",
       "    </tr>\n",
       "    <tr>\n",
       "      <th>mean</th>\n",
       "      <td>29728.964833</td>\n",
       "      <td>2015.502386</td>\n",
       "      <td>6.500377</td>\n",
       "      <td>2.713584</td>\n",
       "      <td>0.815189</td>\n",
       "      <td>72.80005</td>\n",
       "      <td>2015.502386</td>\n",
       "      <td>29728.964833</td>\n",
       "      <td>272.163924</td>\n",
       "      <td>29728.964833</td>\n",
       "    </tr>\n",
       "    <tr>\n",
       "      <th>std</th>\n",
       "      <td>16549.184944</td>\n",
       "      <td>0.500057</td>\n",
       "      <td>3.454851</td>\n",
       "      <td>0.465223</td>\n",
       "      <td>0.413785</td>\n",
       "      <td>143.02871</td>\n",
       "      <td>0.500057</td>\n",
       "      <td>16549.184944</td>\n",
       "      <td>530.198716</td>\n",
       "      <td>16549.184944</td>\n",
       "    </tr>\n",
       "    <tr>\n",
       "      <th>min</th>\n",
       "      <td>1043.000000</td>\n",
       "      <td>2015.000000</td>\n",
       "      <td>1.000000</td>\n",
       "      <td>1.150000</td>\n",
       "      <td>0.000000</td>\n",
       "      <td>1.00000</td>\n",
       "      <td>2015.000000</td>\n",
       "      <td>1043.000000</td>\n",
       "      <td>3.691471</td>\n",
       "      <td>1043.000000</td>\n",
       "    </tr>\n",
       "    <tr>\n",
       "      <th>25%</th>\n",
       "      <td>12103.000000</td>\n",
       "      <td>2015.000000</td>\n",
       "      <td>3.000000</td>\n",
       "      <td>2.386122</td>\n",
       "      <td>0.628218</td>\n",
       "      <td>12.00000</td>\n",
       "      <td>2015.000000</td>\n",
       "      <td>12103.000000</td>\n",
       "      <td>46.316148</td>\n",
       "      <td>12103.000000</td>\n",
       "    </tr>\n",
       "    <tr>\n",
       "      <th>50%</th>\n",
       "      <td>34029.000000</td>\n",
       "      <td>2016.000000</td>\n",
       "      <td>7.000000</td>\n",
       "      <td>2.721429</td>\n",
       "      <td>0.788764</td>\n",
       "      <td>29.00000</td>\n",
       "      <td>2016.000000</td>\n",
       "      <td>34029.000000</td>\n",
       "      <td>116.010549</td>\n",
       "      <td>34029.000000</td>\n",
       "    </tr>\n",
       "    <tr>\n",
       "      <th>75%</th>\n",
       "      <td>45045.000000</td>\n",
       "      <td>2016.000000</td>\n",
       "      <td>10.000000</td>\n",
       "      <td>3.010000</td>\n",
       "      <td>0.946196</td>\n",
       "      <td>73.00000</td>\n",
       "      <td>2016.000000</td>\n",
       "      <td>45045.000000</td>\n",
       "      <td>299.588930</td>\n",
       "      <td>45045.000000</td>\n",
       "    </tr>\n",
       "    <tr>\n",
       "      <th>max</th>\n",
       "      <td>56021.000000</td>\n",
       "      <td>2016.000000</td>\n",
       "      <td>12.000000</td>\n",
       "      <td>7.012500</td>\n",
       "      <td>8.662295</td>\n",
       "      <td>1618.00000</td>\n",
       "      <td>2016.000000</td>\n",
       "      <td>56021.000000</td>\n",
       "      <td>4322.952569</td>\n",
       "      <td>56021.000000</td>\n",
       "    </tr>\n",
       "  </tbody>\n",
       "</table>\n",
       "</div>"
      ],
      "text/plain": [
       "       guessed_store_county_fips  purchase_year  purchase_month    upc_price  \\\n",
       "count                3981.000000    3981.000000     3981.000000  3981.000000   \n",
       "mean                29728.964833    2015.502386        6.500377     2.713584   \n",
       "std                 16549.184944       0.500057        3.454851     0.465223   \n",
       "min                  1043.000000    2015.000000        1.000000     1.150000   \n",
       "25%                 12103.000000    2015.000000        3.000000     2.386122   \n",
       "50%                 34029.000000    2016.000000        7.000000     2.721429   \n",
       "75%                 45045.000000    2016.000000       10.000000     3.010000   \n",
       "max                 56021.000000    2016.000000       12.000000     7.012500   \n",
       "\n",
       "       upc_price_std   nb_of_obs         year         GEOID  \\\n",
       "count    3918.000000  3981.00000  3981.000000   3981.000000   \n",
       "mean        0.815189    72.80005  2015.502386  29728.964833   \n",
       "std         0.413785   143.02871     0.500057  16549.184944   \n",
       "min         0.000000     1.00000  2015.000000   1043.000000   \n",
       "25%         0.628218    12.00000  2015.000000  12103.000000   \n",
       "50%         0.788764    29.00000  2016.000000  34029.000000   \n",
       "75%         0.946196    73.00000  2016.000000  45045.000000   \n",
       "max         8.662295  1618.00000  2016.000000  56021.000000   \n",
       "\n",
       "       B01001_calc_PopDensity   County_fips  \n",
       "count             3981.000000   3981.000000  \n",
       "mean               272.163924  29728.964833  \n",
       "std                530.198716  16549.184944  \n",
       "min                  3.691471   1043.000000  \n",
       "25%                 46.316148  12103.000000  \n",
       "50%                116.010549  34029.000000  \n",
       "75%                299.588930  45045.000000  \n",
       "max               4322.952569  56021.000000  "
      ]
     },
     "execution_count": 9,
     "metadata": {},
     "output_type": "execute_result"
    }
   ],
   "source": [
    "# The control group is composed by all states where nothing (no entry nor exit) happened.\n",
    "control = milk_d[~np.isin(milk_d.guessed_store_county_fips, movements)].copy()\n",
    "print(f\"Size of the control group: {len(control.guessed_store_county_fips.unique())}.\")\n",
    "\n",
    "\n",
    "# The treatment group is composed by the states where one entry took place in 2016 and where this entry is the only movement\n",
    "count = movements.groupby('County_fips').count()\n",
    "count = count[count.Opening_date + count.Closing_date == 1] # No more than one movement in the treatement group\n",
    "treatment_movements = movements[(np.isin(movements.County_fips, count.index))]\n",
    "\n",
    "treatment = milk_d[np.isin(milk_d.guessed_store_county_fips, treatment_movements.County_fips )].copy()\n",
    "treatment = treatment.merge(treatment_movements, left_on='guessed_store_county_fips', right_on='County_fips')\n",
    "print(f\"Size of the treatment group: {len(treatment.guessed_store_county_fips.unique())}.\")\n",
    "\n",
    "\n",
    "# We create our dummies for the regression\n",
    "control['treat'] = False\n",
    "control['interaction'] = False\n",
    "treatment['treat'] = True\n",
    "treatment['interaction'] = (treatment.purchase_month > treatment.Opening_date.dt.month) & (treatment.purchase_year >= treatment.Opening_date.dt.year)\n",
    "treatment.describe()"
   ]
  },
  {
   "cell_type": "code",
   "execution_count": 10,
   "id": "c0a92c51",
   "metadata": {},
   "outputs": [
    {
     "data": {
      "text/html": [
       "<div>\n",
       "<style scoped>\n",
       "    .dataframe tbody tr th:only-of-type {\n",
       "        vertical-align: middle;\n",
       "    }\n",
       "\n",
       "    .dataframe tbody tr th {\n",
       "        vertical-align: top;\n",
       "    }\n",
       "\n",
       "    .dataframe thead tr th {\n",
       "        text-align: left;\n",
       "    }\n",
       "</style>\n",
       "<table border=\"1\" class=\"dataframe\">\n",
       "  <thead>\n",
       "    <tr>\n",
       "      <th></th>\n",
       "      <th>B01001_calc_PopDensity</th>\n",
       "    </tr>\n",
       "    <tr>\n",
       "      <th></th>\n",
       "      <th>mean</th>\n",
       "    </tr>\n",
       "  </thead>\n",
       "  <tbody>\n",
       "    <tr>\n",
       "      <th>count</th>\n",
       "      <td>89.000000</td>\n",
       "    </tr>\n",
       "    <tr>\n",
       "      <th>mean</th>\n",
       "      <td>265.114160</td>\n",
       "    </tr>\n",
       "    <tr>\n",
       "      <th>std</th>\n",
       "      <td>523.002419</td>\n",
       "    </tr>\n",
       "    <tr>\n",
       "      <th>min</th>\n",
       "      <td>3.691471</td>\n",
       "    </tr>\n",
       "    <tr>\n",
       "      <th>25%</th>\n",
       "      <td>42.854831</td>\n",
       "    </tr>\n",
       "    <tr>\n",
       "      <th>50%</th>\n",
       "      <td>107.326459</td>\n",
       "    </tr>\n",
       "    <tr>\n",
       "      <th>75%</th>\n",
       "      <td>288.317756</td>\n",
       "    </tr>\n",
       "    <tr>\n",
       "      <th>max</th>\n",
       "      <td>4322.952569</td>\n",
       "    </tr>\n",
       "  </tbody>\n",
       "</table>\n",
       "</div>"
      ],
      "text/plain": [
       "      B01001_calc_PopDensity\n",
       "                        mean\n",
       "count              89.000000\n",
       "mean              265.114160\n",
       "std               523.002419\n",
       "min                 3.691471\n",
       "25%                42.854831\n",
       "50%               107.326459\n",
       "75%               288.317756\n",
       "max              4322.952569"
      ]
     },
     "execution_count": 10,
     "metadata": {},
     "output_type": "execute_result"
    }
   ],
   "source": [
    "treatment_d = treatment[[\"GEOID\",\"B01001_calc_PopDensity\"]]\n",
    "density_per_county_t = treatment_d.groupby(\"GEOID\").agg([\"mean\"])\n",
    "density_per_county_t.describe()"
   ]
  },
  {
   "cell_type": "code",
   "execution_count": 11,
   "id": "10e8e782",
   "metadata": {},
   "outputs": [
    {
     "name": "stdout",
     "output_type": "stream",
     "text": [
      "3.69147125917798 4322.95256868476\n",
      "76333\n",
      "72075 0.9442180970222578\n"
     ]
    }
   ],
   "source": [
    "#criterium for control group : values in same range as for treatment\n",
    "min_d = density_per_county_t.min()[('B01001_calc_PopDensity','mean')]\n",
    "max_d = density_per_county_t.max()[('B01001_calc_PopDensity','mean')]\n",
    "print(min_d, max_d)\n",
    "print(control.shape[0])\n",
    "control_m = control[(control['B01001_calc_PopDensity']>=min_d)&(control['B01001_calc_PopDensity']<=max_d)]\n",
    "print(control_m.shape[0], control_m.shape[0]/control.shape[0])"
   ]
  },
  {
   "cell_type": "code",
   "execution_count": 12,
   "id": "9aa3de38",
   "metadata": {},
   "outputs": [
    {
     "name": "stdout",
     "output_type": "stream",
     "text": [
      "23105 0.3026869112965559\n"
     ]
    }
   ],
   "source": [
    "first_quartile = density_per_county_t.quantile(q=0.25)[('B01001_calc_PopDensity','mean')]\n",
    "third_quartile = density_per_county_t.quantile(q=0.75)[('B01001_calc_PopDensity','mean')]\n",
    "control_m2 = control[(control['B01001_calc_PopDensity']>=first_quartile)&(control['B01001_calc_PopDensity']<=third_quartile)]\n",
    "print(control_m2.shape[0], control_m2.shape[0]/control.shape[0])"
   ]
  },
  {
   "cell_type": "code",
   "execution_count": 14,
   "id": "372edb33",
   "metadata": {},
   "outputs": [],
   "source": [
    "control_m = control_m[[\"is_walmart\",\"store_state\",\"guessed_store_county\",\"guessed_store_county_fips\",\"purchase_year\",\"purchase_month\",\"product_group_descr\",\"upc_price\",\"upc_price_std\",\"nb_of_obs\",\"year\",\"treat\",\"interaction\"]]"
   ]
  },
  {
   "cell_type": "code",
   "execution_count": 15,
   "id": "cad89057",
   "metadata": {},
   "outputs": [],
   "source": [
    "control_m2 = control_m2[[\"is_walmart\",\"store_state\",\"guessed_store_county\",\"guessed_store_county_fips\",\"purchase_year\",\"purchase_month\",\"product_group_descr\",\"upc_price\",\"upc_price_std\",\"nb_of_obs\",\"year\",\"treat\",\"interaction\"]]"
   ]
  },
  {
   "cell_type": "code",
   "execution_count": null,
   "id": "4019255c",
   "metadata": {},
   "outputs": [],
   "source": []
  },
  {
   "cell_type": "code",
   "execution_count": null,
   "id": "90f6f029",
   "metadata": {},
   "outputs": [],
   "source": []
  },
  {
   "cell_type": "code",
   "execution_count": null,
   "id": "934d05aa",
   "metadata": {},
   "outputs": [],
   "source": []
  },
  {
   "cell_type": "code",
   "execution_count": null,
   "id": "c0eb9d4b",
   "metadata": {},
   "outputs": [],
   "source": []
  }
 ],
 "metadata": {
  "kernelspec": {
   "display_name": "Python 3 (ipykernel)",
   "language": "python",
   "name": "python3"
  },
  "language_info": {
   "codemirror_mode": {
    "name": "ipython",
    "version": 3
   },
   "file_extension": ".py",
   "mimetype": "text/x-python",
   "name": "python",
   "nbconvert_exporter": "python",
   "pygments_lexer": "ipython3",
   "version": "3.10.6"
  }
 },
 "nbformat": 4,
 "nbformat_minor": 5
}
