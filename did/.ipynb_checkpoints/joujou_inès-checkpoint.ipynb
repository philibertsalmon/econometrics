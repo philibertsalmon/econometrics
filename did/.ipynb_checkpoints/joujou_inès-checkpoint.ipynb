{
 "cells": [
  {
   "cell_type": "code",
   "execution_count": 1,
   "metadata": {},
   "outputs": [],
   "source": [
    "import pandas as pd\n",
    "import numpy as np\n",
    "import statsmodels.formula.api as smf\n",
    "import matplotlib.pyplot as plt"
   ]
  },
  {
   "cell_type": "code",
   "execution_count": 2,
   "metadata": {},
   "outputs": [],
   "source": [
    "nielsen15 = pd.read_csv('../../Nielsen/aggregated_nielsen_2015.csv')\n",
    "nielsen16 = pd.read_csv('../..//Nielsen/aggregated_nielsen_2016.csv')\n",
    "nielsen15['year'] = 2015\n",
    "nielsen16['year'] = 2016"
   ]
  },
  {
   "cell_type": "code",
   "execution_count": 3,
   "metadata": {},
   "outputs": [],
   "source": [
    "nielsen = pd.concat((nielsen15, nielsen16))"
   ]
  },
  {
   "cell_type": "code",
   "execution_count": 4,
   "metadata": {},
   "outputs": [],
   "source": [
    "## Entriy/exit dates\n",
    "fandom = pd.read_csv('../data_collection/plein_de_data/fandom_traitées.csv', parse_dates=['Opening_date', 'Closing_date'])[['State', 'County_name', 'County_fips', 'Opening_date', 'Closing_date']]\n",
    "\n",
    "# We drop the state in which we do not trust our data (some mistakes stil remain)\n",
    "fandom = fandom[~np.isin(fandom.State, ('CA', 'GA', 'KS', 'LA', 'TX'))]\n",
    "\n",
    "# We concentrate our study on the movements (entries & exits) during the fiscal years 2015 and 2016\n",
    "movements = fandom[((fandom.Opening_date >= '2015-01-31') & (fandom.Opening_date <= '2017-01-31')) | ((fandom.Closing_date >= '2015-01-31') & (fandom.Closing_date <= '2017-01-31'))]\n",
    "#movements['year'] = movements.Opening_date.dt.year\n",
    "#movements['month'] = movements.Opening_date.dt.month"
   ]
  },
  {
   "cell_type": "code",
   "execution_count": null,
   "metadata": {},
   "outputs": [],
   "source": []
  },
  {
   "cell_type": "markdown",
   "metadata": {},
   "source": [
    "## FIRST MODEL : one month"
   ]
  },
  {
   "cell_type": "markdown",
   "metadata": {},
   "source": [
    "Regression model :\n",
    "$$ Price_{i, t} = \\alpha + \\beta \\cdot treat_i + \\gamma \\cdot post_t + \\delta \\cdot treat_i \\cdot post_{t} + \\varepsilon_{i, t}$$"
   ]
  },
  {
   "cell_type": "code",
   "execution_count": 10,
   "metadata": {},
   "outputs": [],
   "source": [
    "year = 2016\n",
    "month = 1"
   ]
  },
  {
   "cell_type": "code",
   "execution_count": 11,
   "metadata": {},
   "outputs": [
    {
     "name": "stdout",
     "output_type": "stream",
     "text": [
      "Size of the control group: 2322.\n",
      "Size of the treatment group: 15.\n"
     ]
    }
   ],
   "source": [
    "# We choose to focus on milk prices\n",
    "milk = nielsen[nielsen.product_group_descr == 'MILK']\n",
    "\n",
    "\n",
    "# The control group is composed by all states where nothing (no entry nor exit) happened.\n",
    "control = milk[~np.isin(milk.guessed_store_county_fips, movements)].copy()\n",
    "print(f\"Size of the control group: {len(control.guessed_store_county_fips.unique())}.\")\n",
    "\n",
    "\n",
    "# The treatment group is composed by the states where one entry took place in august 2016 and where this entry is the only movement\n",
    "count = movements.groupby('County_fips').count()\n",
    "count = count[count.Opening_date + count.Closing_date == 1] # No more than one movement in the treatement group\n",
    "treatment_movements = movements[(np.isin(movements.County_fips, count.index)) & (movements.Opening_date.dt.year == year) & (movements.Opening_date.dt.month == month)]\n",
    "\n",
    "treatment = milk[np.isin(milk.guessed_store_county_fips, treatment_movements.County_fips )].copy()\n",
    "print(f\"Size of the treatment group: {len(treatment.guessed_store_county_fips.unique())}.\")\n",
    "\n",
    "\n",
    "# We create our dummies for the regression\n",
    "control['treat'] = False\n",
    "control['post'] = (control.purchase_month > month) & (control.purchase_year == year)\n",
    "treatment['treat'] = True\n",
    "treatment['post'] = (treatment.purchase_month > month) & (treatment.purchase_year == year)\n",
    "\n",
    "\n",
    "# Final dataset for the regression :\n",
    "\n",
    "df = pd.concat((control, treatment))[['upc_price', 'treat', 'post']]"
   ]
  },
  {
   "cell_type": "code",
   "execution_count": 12,
   "metadata": {},
   "outputs": [],
   "source": [
    "reg = smf.ols(formula='upc_price ~ treat * post', data=df)\n",
    "results = reg.fit()"
   ]
  },
  {
   "cell_type": "code",
   "execution_count": 13,
   "metadata": {},
   "outputs": [
    {
     "data": {
      "text/html": [
       "<table class=\"simpletable\">\n",
       "<caption>OLS Regression Results</caption>\n",
       "<tr>\n",
       "  <th>Dep. Variable:</th>        <td>upc_price</td>    <th>  R-squared:         </th> <td>   0.019</td> \n",
       "</tr>\n",
       "<tr>\n",
       "  <th>Model:</th>                   <td>OLS</td>       <th>  Adj. R-squared:    </th> <td>   0.019</td> \n",
       "</tr>\n",
       "<tr>\n",
       "  <th>Method:</th>             <td>Least Squares</td>  <th>  F-statistic:       </th> <td>   505.4</td> \n",
       "</tr>\n",
       "<tr>\n",
       "  <th>Date:</th>             <td>Wed, 26 Oct 2022</td> <th>  Prob (F-statistic):</th>  <td>  0.00</td>  \n",
       "</tr>\n",
       "<tr>\n",
       "  <th>Time:</th>                 <td>09:46:08</td>     <th>  Log-Likelihood:    </th> <td> -71742.</td> \n",
       "</tr>\n",
       "<tr>\n",
       "  <th>No. Observations:</th>      <td> 77028</td>      <th>  AIC:               </th> <td>1.435e+05</td>\n",
       "</tr>\n",
       "<tr>\n",
       "  <th>Df Residuals:</th>          <td> 77024</td>      <th>  BIC:               </th> <td>1.435e+05</td>\n",
       "</tr>\n",
       "<tr>\n",
       "  <th>Df Model:</th>              <td>     3</td>      <th>                     </th>     <td> </td>    \n",
       "</tr>\n",
       "<tr>\n",
       "  <th>Covariance Type:</th>      <td>nonrobust</td>    <th>                     </th>     <td> </td>    \n",
       "</tr>\n",
       "</table>\n",
       "<table class=\"simpletable\">\n",
       "<tr>\n",
       "               <td></td>                 <th>coef</th>     <th>std err</th>      <th>t</th>      <th>P>|t|</th>  <th>[0.025</th>    <th>0.975]</th>  \n",
       "</tr>\n",
       "<tr>\n",
       "  <th>Intercept</th>                  <td>    2.8089</td> <td>    0.003</td> <td>  930.455</td> <td> 0.000</td> <td>    2.803</td> <td>    2.815</td>\n",
       "</tr>\n",
       "<tr>\n",
       "  <th>treat[T.True]</th>              <td>   -0.1182</td> <td>    0.032</td> <td>   -3.716</td> <td> 0.000</td> <td>   -0.181</td> <td>   -0.056</td>\n",
       "</tr>\n",
       "<tr>\n",
       "  <th>post[T.True]</th>               <td>   -0.1704</td> <td>    0.004</td> <td>  -38.184</td> <td> 0.000</td> <td>   -0.179</td> <td>   -0.162</td>\n",
       "</tr>\n",
       "<tr>\n",
       "  <th>treat[T.True]:post[T.True]</th> <td>   -0.0485</td> <td>    0.047</td> <td>   -1.032</td> <td> 0.302</td> <td>   -0.141</td> <td>    0.044</td>\n",
       "</tr>\n",
       "</table>\n",
       "<table class=\"simpletable\">\n",
       "<tr>\n",
       "  <th>Omnibus:</th>       <td>47992.647</td> <th>  Durbin-Watson:     </th>  <td>   0.975</td>  \n",
       "</tr>\n",
       "<tr>\n",
       "  <th>Prob(Omnibus):</th>  <td> 0.000</td>   <th>  Jarque-Bera (JB):  </th> <td>4283563.240</td>\n",
       "</tr>\n",
       "<tr>\n",
       "  <th>Skew:</th>           <td> 2.166</td>   <th>  Prob(JB):          </th>  <td>    0.00</td>  \n",
       "</tr>\n",
       "<tr>\n",
       "  <th>Kurtosis:</th>       <td>39.275</td>   <th>  Cond. No.          </th>  <td>    26.8</td>  \n",
       "</tr>\n",
       "</table><br/><br/>Notes:<br/>[1] Standard Errors assume that the covariance matrix of the errors is correctly specified."
      ],
      "text/plain": [
       "<class 'statsmodels.iolib.summary.Summary'>\n",
       "\"\"\"\n",
       "                            OLS Regression Results                            \n",
       "==============================================================================\n",
       "Dep. Variable:              upc_price   R-squared:                       0.019\n",
       "Model:                            OLS   Adj. R-squared:                  0.019\n",
       "Method:                 Least Squares   F-statistic:                     505.4\n",
       "Date:                Wed, 26 Oct 2022   Prob (F-statistic):               0.00\n",
       "Time:                        09:46:08   Log-Likelihood:                -71742.\n",
       "No. Observations:               77028   AIC:                         1.435e+05\n",
       "Df Residuals:                   77024   BIC:                         1.435e+05\n",
       "Df Model:                           3                                         \n",
       "Covariance Type:            nonrobust                                         \n",
       "==============================================================================================\n",
       "                                 coef    std err          t      P>|t|      [0.025      0.975]\n",
       "----------------------------------------------------------------------------------------------\n",
       "Intercept                      2.8089      0.003    930.455      0.000       2.803       2.815\n",
       "treat[T.True]                 -0.1182      0.032     -3.716      0.000      -0.181      -0.056\n",
       "post[T.True]                  -0.1704      0.004    -38.184      0.000      -0.179      -0.162\n",
       "treat[T.True]:post[T.True]    -0.0485      0.047     -1.032      0.302      -0.141       0.044\n",
       "==============================================================================\n",
       "Omnibus:                    47992.647   Durbin-Watson:                   0.975\n",
       "Prob(Omnibus):                  0.000   Jarque-Bera (JB):          4283563.240\n",
       "Skew:                           2.166   Prob(JB):                         0.00\n",
       "Kurtosis:                      39.275   Cond. No.                         26.8\n",
       "==============================================================================\n",
       "\n",
       "Notes:\n",
       "[1] Standard Errors assume that the covariance matrix of the errors is correctly specified.\n",
       "\"\"\""
      ]
     },
     "execution_count": 13,
     "metadata": {},
     "output_type": "execute_result"
    }
   ],
   "source": [
    "results.summary()"
   ]
  },
  {
   "cell_type": "markdown",
   "metadata": {},
   "source": [
    "## SECOND MODEL : all months"
   ]
  },
  {
   "cell_type": "markdown",
   "metadata": {},
   "source": [
    "Regression model :\n",
    "$$ Price_{i, t} = \\alpha + \\beta \\cdot treat_i + \\delta \\cdot treat_i \\cdot post_{t} + \\varepsilon_{i, t}$$"
   ]
  },
  {
   "cell_type": "code",
   "execution_count": 14,
   "metadata": {},
   "outputs": [
    {
     "name": "stdout",
     "output_type": "stream",
     "text": [
      "Size of the control group: 2322.\n",
      "Size of the treatment group: 89.\n"
     ]
    }
   ],
   "source": [
    "# We choose to focus on milk prices\n",
    "milk = nielsen[nielsen.product_group_descr == 'MILK']\n",
    "\n",
    "\n",
    "# The control group is composed by all states where nothing (no entry nor exit) happened.\n",
    "control = milk[~np.isin(milk.guessed_store_county_fips, movements)].copy()\n",
    "print(f\"Size of the control group: {len(control.guessed_store_county_fips.unique())}.\")\n",
    "\n",
    "\n",
    "# The treatment group is composed by the states where one entry took place in 2016 and where this entry is the only movement\n",
    "count = movements.groupby('County_fips').count()\n",
    "count = count[count.Opening_date + count.Closing_date == 1] # No more than one movement in the treatement group\n",
    "treatment_movements = movements[(np.isin(movements.County_fips, count.index))]\n",
    "\n",
    "treatment = milk[np.isin(milk.guessed_store_county_fips, treatment_movements.County_fips )].copy()\n",
    "treatment = treatment.merge(treatment_movements, left_on='guessed_store_county_fips', right_on='County_fips')\n",
    "print(f\"Size of the treatment group: {len(treatment.guessed_store_county_fips.unique())}.\")\n",
    "\n",
    "\n",
    "# We create our dummies for the regression\n",
    "control['treat'] = False\n",
    "control['interaction'] = False\n",
    "treatment['treat'] = True\n",
    "treatment['interaction'] = (treatment.purchase_month > treatment.Opening_date.dt.month) & (treatment.purchase_year >= treatment.Opening_date.dt.year)\n",
    "\n",
    "\n",
    "# Final dataset for the regression :\n",
    "\n",
    "df = pd.concat((control, treatment))[['upc_price', 'treat', 'interaction']]"
   ]
  },
  {
   "cell_type": "code",
   "execution_count": 15,
   "metadata": {},
   "outputs": [],
   "source": [
    "reg = smf.ols(formula='upc_price ~ treat + interaction', data=df)\n",
    "results = reg.fit()"
   ]
  },
  {
   "cell_type": "code",
   "execution_count": 16,
   "metadata": {},
   "outputs": [
    {
     "data": {
      "text/html": [
       "<table class=\"simpletable\">\n",
       "<caption>OLS Regression Results</caption>\n",
       "<tr>\n",
       "  <th>Dep. Variable:</th>        <td>upc_price</td>    <th>  R-squared:         </th> <td>   0.001</td> \n",
       "</tr>\n",
       "<tr>\n",
       "  <th>Model:</th>                   <td>OLS</td>       <th>  Adj. R-squared:    </th> <td>   0.001</td> \n",
       "</tr>\n",
       "<tr>\n",
       "  <th>Method:</th>             <td>Least Squares</td>  <th>  F-statistic:       </th> <td>   25.32</td> \n",
       "</tr>\n",
       "<tr>\n",
       "  <th>Date:</th>             <td>Wed, 26 Oct 2022</td> <th>  Prob (F-statistic):</th> <td>1.02e-11</td> \n",
       "</tr>\n",
       "<tr>\n",
       "  <th>Time:</th>                 <td>09:47:31</td>     <th>  Log-Likelihood:    </th> <td> -74860.</td> \n",
       "</tr>\n",
       "<tr>\n",
       "  <th>No. Observations:</th>      <td> 80314</td>      <th>  AIC:               </th> <td>1.497e+05</td>\n",
       "</tr>\n",
       "<tr>\n",
       "  <th>Df Residuals:</th>          <td> 80311</td>      <th>  BIC:               </th> <td>1.498e+05</td>\n",
       "</tr>\n",
       "<tr>\n",
       "  <th>Df Model:</th>              <td>     2</td>      <th>                     </th>     <td> </td>    \n",
       "</tr>\n",
       "<tr>\n",
       "  <th>Covariance Type:</th>      <td>nonrobust</td>    <th>                     </th>     <td> </td>    \n",
       "</tr>\n",
       "</table>\n",
       "<table class=\"simpletable\">\n",
       "<tr>\n",
       "           <td></td>              <th>coef</th>     <th>std err</th>      <th>t</th>      <th>P>|t|</th>  <th>[0.025</th>    <th>0.975]</th>  \n",
       "</tr>\n",
       "<tr>\n",
       "  <th>Intercept</th>           <td>    2.7309</td> <td>    0.002</td> <td> 1227.711</td> <td> 0.000</td> <td>    2.727</td> <td>    2.735</td>\n",
       "</tr>\n",
       "<tr>\n",
       "  <th>treat[T.True]</th>       <td>    0.0308</td> <td>    0.012</td> <td>    2.529</td> <td> 0.011</td> <td>    0.007</td> <td>    0.055</td>\n",
       "</tr>\n",
       "<tr>\n",
       "  <th>interaction[T.True]</th> <td>   -0.1419</td> <td>    0.021</td> <td>   -6.900</td> <td> 0.000</td> <td>   -0.182</td> <td>   -0.102</td>\n",
       "</tr>\n",
       "</table>\n",
       "<table class=\"simpletable\">\n",
       "<tr>\n",
       "  <th>Omnibus:</th>       <td>47829.939</td> <th>  Durbin-Watson:     </th>  <td>   0.939</td>  \n",
       "</tr>\n",
       "<tr>\n",
       "  <th>Prob(Omnibus):</th>  <td> 0.000</td>   <th>  Jarque-Bera (JB):  </th> <td>3886434.153</td>\n",
       "</tr>\n",
       "<tr>\n",
       "  <th>Skew:</th>           <td> 2.039</td>   <th>  Prob(JB):          </th>  <td>    0.00</td>  \n",
       "</tr>\n",
       "<tr>\n",
       "  <th>Kurtosis:</th>       <td>36.834</td>   <th>  Cond. No.          </th>  <td>    10.2</td>  \n",
       "</tr>\n",
       "</table><br/><br/>Notes:<br/>[1] Standard Errors assume that the covariance matrix of the errors is correctly specified."
      ],
      "text/plain": [
       "<class 'statsmodels.iolib.summary.Summary'>\n",
       "\"\"\"\n",
       "                            OLS Regression Results                            \n",
       "==============================================================================\n",
       "Dep. Variable:              upc_price   R-squared:                       0.001\n",
       "Model:                            OLS   Adj. R-squared:                  0.001\n",
       "Method:                 Least Squares   F-statistic:                     25.32\n",
       "Date:                Wed, 26 Oct 2022   Prob (F-statistic):           1.02e-11\n",
       "Time:                        09:47:31   Log-Likelihood:                -74860.\n",
       "No. Observations:               80314   AIC:                         1.497e+05\n",
       "Df Residuals:                   80311   BIC:                         1.498e+05\n",
       "Df Model:                           2                                         \n",
       "Covariance Type:            nonrobust                                         \n",
       "=======================================================================================\n",
       "                          coef    std err          t      P>|t|      [0.025      0.975]\n",
       "---------------------------------------------------------------------------------------\n",
       "Intercept               2.7309      0.002   1227.711      0.000       2.727       2.735\n",
       "treat[T.True]           0.0308      0.012      2.529      0.011       0.007       0.055\n",
       "interaction[T.True]    -0.1419      0.021     -6.900      0.000      -0.182      -0.102\n",
       "==============================================================================\n",
       "Omnibus:                    47829.939   Durbin-Watson:                   0.939\n",
       "Prob(Omnibus):                  0.000   Jarque-Bera (JB):          3886434.153\n",
       "Skew:                           2.039   Prob(JB):                         0.00\n",
       "Kurtosis:                      36.834   Cond. No.                         10.2\n",
       "==============================================================================\n",
       "\n",
       "Notes:\n",
       "[1] Standard Errors assume that the covariance matrix of the errors is correctly specified.\n",
       "\"\"\""
      ]
     },
     "execution_count": 16,
     "metadata": {},
     "output_type": "execute_result"
    }
   ],
   "source": [
    "results.summary()"
   ]
  },
  {
   "cell_type": "code",
   "execution_count": null,
   "metadata": {},
   "outputs": [],
   "source": []
  }
 ],
 "metadata": {
  "kernelspec": {
   "display_name": "Python 3 (ipykernel)",
   "language": "python",
   "name": "python3"
  },
  "language_info": {
   "codemirror_mode": {
    "name": "ipython",
    "version": 3
   },
   "file_extension": ".py",
   "mimetype": "text/x-python",
   "name": "python",
   "nbconvert_exporter": "python",
   "pygments_lexer": "ipython3",
   "version": "3.10.6"
  },
  "vscode": {
   "interpreter": {
    "hash": "3d597f4c481aa0f25dceb95d2a0067e73c0966dcbd003d741d821a7208527ecf"
   }
  }
 },
 "nbformat": 4,
 "nbformat_minor": 2
}
