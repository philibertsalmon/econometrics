{
 "cells": [
  {
   "cell_type": "markdown",
   "metadata": {},
   "source": [
    "Nielsen data\n",
    "==="
   ]
  },
  {
   "cell_type": "code",
   "execution_count": 1,
   "metadata": {},
   "outputs": [],
   "source": [
    "import pandas as pd\n",
    "import numpy as np"
   ]
  },
  {
   "cell_type": "markdown",
   "metadata": {},
   "source": [
    "## Loading the data"
   ]
  },
  {
   "cell_type": "code",
   "execution_count": 2,
   "metadata": {},
   "outputs": [],
   "source": [
    "panelist = pd.read_table(\"../../Nielsen/panelists_2016.tsv\").set_index('Household_Cd')[['Fips_State_Cd', 'Fips_State_Desc', 'Fips_County_Cd', 'Fips_County_Desc', 'Panelist_ZipCd']]\n",
    "panelist['household_county_fips'] = np.vectorize(int)(panelist.Fips_State_Cd * 1e3 + panelist.Fips_County_Cd)\n",
    "panelist['household_zip3'] = panelist.Panelist_ZipCd // 100\n",
    "panelist = panelist[['Fips_State_Desc', 'Fips_County_Desc', 'household_county_fips', 'household_zip3']].rename(columns={'Fips_State_Desc': 'household_state', 'Fips_County_Desc': 'household_county'})"
   ]
  },
  {
   "cell_type": "code",
   "execution_count": 3,
   "metadata": {},
   "outputs": [
    {
     "data": {
      "text/html": [
       "<div>\n",
       "<style scoped>\n",
       "    .dataframe tbody tr th:only-of-type {\n",
       "        vertical-align: middle;\n",
       "    }\n",
       "\n",
       "    .dataframe tbody tr th {\n",
       "        vertical-align: top;\n",
       "    }\n",
       "\n",
       "    .dataframe thead th {\n",
       "        text-align: right;\n",
       "    }\n",
       "</style>\n",
       "<table border=\"1\" class=\"dataframe\">\n",
       "  <thead>\n",
       "    <tr style=\"text-align: right;\">\n",
       "      <th></th>\n",
       "      <th>household_state</th>\n",
       "      <th>household_county</th>\n",
       "      <th>household_county_fips</th>\n",
       "      <th>household_zip3</th>\n",
       "    </tr>\n",
       "    <tr>\n",
       "      <th>Household_Cd</th>\n",
       "      <th></th>\n",
       "      <th></th>\n",
       "      <th></th>\n",
       "      <th></th>\n",
       "    </tr>\n",
       "  </thead>\n",
       "  <tbody>\n",
       "    <tr>\n",
       "      <th>2058978</th>\n",
       "      <td>CA</td>\n",
       "      <td>ALAMEDA</td>\n",
       "      <td>6001</td>\n",
       "      <td>945</td>\n",
       "    </tr>\n",
       "    <tr>\n",
       "      <th>2059041</th>\n",
       "      <td>CA</td>\n",
       "      <td>SONOMA</td>\n",
       "      <td>6097</td>\n",
       "      <td>954</td>\n",
       "    </tr>\n",
       "    <tr>\n",
       "      <th>2053746</th>\n",
       "      <td>PA</td>\n",
       "      <td>LANCASTER</td>\n",
       "      <td>42071</td>\n",
       "      <td>175</td>\n",
       "    </tr>\n",
       "    <tr>\n",
       "      <th>2053784</th>\n",
       "      <td>PA</td>\n",
       "      <td>LANCASTER</td>\n",
       "      <td>42071</td>\n",
       "      <td>176</td>\n",
       "    </tr>\n",
       "    <tr>\n",
       "      <th>2055288</th>\n",
       "      <td>CA</td>\n",
       "      <td>ALAMEDA</td>\n",
       "      <td>6001</td>\n",
       "      <td>945</td>\n",
       "    </tr>\n",
       "  </tbody>\n",
       "</table>\n",
       "</div>"
      ],
      "text/plain": [
       "             household_state household_county  household_county_fips  \\\n",
       "Household_Cd                                                           \n",
       "2058978                   CA          ALAMEDA                   6001   \n",
       "2059041                   CA           SONOMA                   6097   \n",
       "2053746                   PA        LANCASTER                  42071   \n",
       "2053784                   PA        LANCASTER                  42071   \n",
       "2055288                   CA          ALAMEDA                   6001   \n",
       "\n",
       "              household_zip3  \n",
       "Household_Cd                  \n",
       "2058978                  945  \n",
       "2059041                  954  \n",
       "2053746                  175  \n",
       "2053784                  176  \n",
       "2055288                  945  "
      ]
     },
     "execution_count": 3,
     "metadata": {},
     "output_type": "execute_result"
    }
   ],
   "source": [
    "panelist.head()"
   ]
  },
  {
   "cell_type": "code",
   "execution_count": 4,
   "metadata": {},
   "outputs": [],
   "source": [
    "purchases = pd.read_csv(\"../../Nielsen/purchases_subset_2016.csv\")\n",
    "purchases['upc_price'] = purchases.total_price_paid / purchases.quantity\n",
    "purchases = purchases[['trip_code_uc', 'upc', 'upc_price']]\n"
   ]
  },
  {
   "cell_type": "code",
   "execution_count": 5,
   "metadata": {},
   "outputs": [
    {
     "data": {
      "text/html": [
       "<div>\n",
       "<style scoped>\n",
       "    .dataframe tbody tr th:only-of-type {\n",
       "        vertical-align: middle;\n",
       "    }\n",
       "\n",
       "    .dataframe tbody tr th {\n",
       "        vertical-align: top;\n",
       "    }\n",
       "\n",
       "    .dataframe thead th {\n",
       "        text-align: right;\n",
       "    }\n",
       "</style>\n",
       "<table border=\"1\" class=\"dataframe\">\n",
       "  <thead>\n",
       "    <tr style=\"text-align: right;\">\n",
       "      <th></th>\n",
       "      <th>trip_code_uc</th>\n",
       "      <th>upc</th>\n",
       "      <th>upc_price</th>\n",
       "    </tr>\n",
       "  </thead>\n",
       "  <tbody>\n",
       "    <tr>\n",
       "      <th>0</th>\n",
       "      <td>1074839376</td>\n",
       "      <td>1111040601</td>\n",
       "      <td>1.49</td>\n",
       "    </tr>\n",
       "    <tr>\n",
       "      <th>1</th>\n",
       "      <td>1067492860</td>\n",
       "      <td>1111040601</td>\n",
       "      <td>1.13</td>\n",
       "    </tr>\n",
       "    <tr>\n",
       "      <th>2</th>\n",
       "      <td>1073807635</td>\n",
       "      <td>1111040601</td>\n",
       "      <td>1.21</td>\n",
       "    </tr>\n",
       "    <tr>\n",
       "      <th>3</th>\n",
       "      <td>1066280722</td>\n",
       "      <td>1111040601</td>\n",
       "      <td>1.82</td>\n",
       "    </tr>\n",
       "    <tr>\n",
       "      <th>4</th>\n",
       "      <td>1074711109</td>\n",
       "      <td>1111040601</td>\n",
       "      <td>1.48</td>\n",
       "    </tr>\n",
       "  </tbody>\n",
       "</table>\n",
       "</div>"
      ],
      "text/plain": [
       "   trip_code_uc         upc  upc_price\n",
       "0    1074839376  1111040601       1.49\n",
       "1    1067492860  1111040601       1.13\n",
       "2    1073807635  1111040601       1.21\n",
       "3    1066280722  1111040601       1.82\n",
       "4    1074711109  1111040601       1.48"
      ]
     },
     "execution_count": 5,
     "metadata": {},
     "output_type": "execute_result"
    }
   ],
   "source": [
    "purchases.head()"
   ]
  },
  {
   "cell_type": "code",
   "execution_count": 6,
   "metadata": {},
   "outputs": [],
   "source": [
    "trips = pd.read_table(\"../../Nielsen/trips_2016.tsv\", parse_dates=['purchase_date']).set_index('trip_code_uc')[['purchase_date', 'retailer_code', 'store_code_uc', 'store_zip3', 'household_code']]\n",
    "# colonnes à enlever : panel_year, total_spent, method_of_payment_cd"
   ]
  },
  {
   "cell_type": "code",
   "execution_count": 7,
   "metadata": {},
   "outputs": [
    {
     "data": {
      "text/html": [
       "<div>\n",
       "<style scoped>\n",
       "    .dataframe tbody tr th:only-of-type {\n",
       "        vertical-align: middle;\n",
       "    }\n",
       "\n",
       "    .dataframe tbody tr th {\n",
       "        vertical-align: top;\n",
       "    }\n",
       "\n",
       "    .dataframe thead th {\n",
       "        text-align: right;\n",
       "    }\n",
       "</style>\n",
       "<table border=\"1\" class=\"dataframe\">\n",
       "  <thead>\n",
       "    <tr style=\"text-align: right;\">\n",
       "      <th></th>\n",
       "      <th>purchase_date</th>\n",
       "      <th>retailer_code</th>\n",
       "      <th>store_code_uc</th>\n",
       "      <th>store_zip3</th>\n",
       "      <th>household_code</th>\n",
       "    </tr>\n",
       "    <tr>\n",
       "      <th>trip_code_uc</th>\n",
       "      <th></th>\n",
       "      <th></th>\n",
       "      <th></th>\n",
       "      <th></th>\n",
       "      <th></th>\n",
       "    </tr>\n",
       "  </thead>\n",
       "  <tbody>\n",
       "    <tr>\n",
       "      <th>1065667000</th>\n",
       "      <td>2016-10-23</td>\n",
       "      <td>2</td>\n",
       "      <td>4239361</td>\n",
       "      <td>190.0</td>\n",
       "      <td>2054802</td>\n",
       "    </tr>\n",
       "    <tr>\n",
       "      <th>1065667001</th>\n",
       "      <td>2016-12-20</td>\n",
       "      <td>9850</td>\n",
       "      <td>0</td>\n",
       "      <td>NaN</td>\n",
       "      <td>8648515</td>\n",
       "    </tr>\n",
       "    <tr>\n",
       "      <th>1065667002</th>\n",
       "      <td>2016-11-14</td>\n",
       "      <td>6920</td>\n",
       "      <td>3727506</td>\n",
       "      <td>730.0</td>\n",
       "      <td>30230428</td>\n",
       "    </tr>\n",
       "    <tr>\n",
       "      <th>1065667003</th>\n",
       "      <td>2016-08-10</td>\n",
       "      <td>6920</td>\n",
       "      <td>3001662</td>\n",
       "      <td>605.0</td>\n",
       "      <td>2071112</td>\n",
       "    </tr>\n",
       "    <tr>\n",
       "      <th>1065667004</th>\n",
       "      <td>2016-04-25</td>\n",
       "      <td>5851</td>\n",
       "      <td>0</td>\n",
       "      <td>NaN</td>\n",
       "      <td>2076738</td>\n",
       "    </tr>\n",
       "  </tbody>\n",
       "</table>\n",
       "</div>"
      ],
      "text/plain": [
       "             purchase_date  retailer_code  store_code_uc  store_zip3  \\\n",
       "trip_code_uc                                                           \n",
       "1065667000      2016-10-23              2        4239361       190.0   \n",
       "1065667001      2016-12-20           9850              0         NaN   \n",
       "1065667002      2016-11-14           6920        3727506       730.0   \n",
       "1065667003      2016-08-10           6920        3001662       605.0   \n",
       "1065667004      2016-04-25           5851              0         NaN   \n",
       "\n",
       "              household_code  \n",
       "trip_code_uc                  \n",
       "1065667000           2054802  \n",
       "1065667001           8648515  \n",
       "1065667002          30230428  \n",
       "1065667003           2071112  \n",
       "1065667004           2076738  "
      ]
     },
     "execution_count": 7,
     "metadata": {},
     "output_type": "execute_result"
    }
   ],
   "source": [
    "trips.head()"
   ]
  },
  {
   "cell_type": "code",
   "execution_count": 8,
   "metadata": {},
   "outputs": [
    {
     "data": {
      "text/plain": [
       "0.48677700294119425"
      ]
     },
     "execution_count": 8,
     "metadata": {},
     "output_type": "execute_result"
    }
   ],
   "source": [
    "# Proportion of unnumerotated stores\n",
    "len(trips[trips.store_code_uc==0])/len(trips)"
   ]
  },
  {
   "cell_type": "code",
   "execution_count": 9,
   "metadata": {},
   "outputs": [],
   "source": [
    "explore = trips[trips.store_code_uc==0]"
   ]
  },
  {
   "cell_type": "code",
   "execution_count": 69,
   "metadata": {},
   "outputs": [
    {
     "data": {
      "text/html": [
       "<div>\n",
       "<style scoped>\n",
       "    .dataframe tbody tr th:only-of-type {\n",
       "        vertical-align: middle;\n",
       "    }\n",
       "\n",
       "    .dataframe tbody tr th {\n",
       "        vertical-align: top;\n",
       "    }\n",
       "\n",
       "    .dataframe thead th {\n",
       "        text-align: right;\n",
       "    }\n",
       "</style>\n",
       "<table border=\"1\" class=\"dataframe\">\n",
       "  <thead>\n",
       "    <tr style=\"text-align: right;\">\n",
       "      <th></th>\n",
       "      <th>purchase_date</th>\n",
       "      <th>store_code_uc</th>\n",
       "      <th>store_zip3</th>\n",
       "      <th>household_code</th>\n",
       "    </tr>\n",
       "  </thead>\n",
       "  <tbody>\n",
       "    <tr>\n",
       "      <th>count</th>\n",
       "      <td>814.000000</td>\n",
       "      <td>814.000000</td>\n",
       "      <td>814.0</td>\n",
       "      <td>814.000000</td>\n",
       "    </tr>\n",
       "    <tr>\n",
       "      <th>mean</th>\n",
       "      <td>6425.955774</td>\n",
       "      <td>6425.955774</td>\n",
       "      <td>0.0</td>\n",
       "      <td>6425.955774</td>\n",
       "    </tr>\n",
       "    <tr>\n",
       "      <th>std</th>\n",
       "      <td>22940.367216</td>\n",
       "      <td>22940.367216</td>\n",
       "      <td>0.0</td>\n",
       "      <td>22940.367216</td>\n",
       "    </tr>\n",
       "    <tr>\n",
       "      <th>min</th>\n",
       "      <td>1.000000</td>\n",
       "      <td>1.000000</td>\n",
       "      <td>0.0</td>\n",
       "      <td>1.000000</td>\n",
       "    </tr>\n",
       "    <tr>\n",
       "      <th>25%</th>\n",
       "      <td>32.000000</td>\n",
       "      <td>32.000000</td>\n",
       "      <td>0.0</td>\n",
       "      <td>32.000000</td>\n",
       "    </tr>\n",
       "    <tr>\n",
       "      <th>50%</th>\n",
       "      <td>322.500000</td>\n",
       "      <td>322.500000</td>\n",
       "      <td>0.0</td>\n",
       "      <td>322.500000</td>\n",
       "    </tr>\n",
       "    <tr>\n",
       "      <th>75%</th>\n",
       "      <td>2664.750000</td>\n",
       "      <td>2664.750000</td>\n",
       "      <td>0.0</td>\n",
       "      <td>2664.750000</td>\n",
       "    </tr>\n",
       "    <tr>\n",
       "      <th>max</th>\n",
       "      <td>246742.000000</td>\n",
       "      <td>246742.000000</td>\n",
       "      <td>0.0</td>\n",
       "      <td>246742.000000</td>\n",
       "    </tr>\n",
       "  </tbody>\n",
       "</table>\n",
       "</div>"
      ],
      "text/plain": [
       "       purchase_date  store_code_uc  store_zip3  household_code\n",
       "count     814.000000     814.000000       814.0      814.000000\n",
       "mean     6425.955774    6425.955774         0.0     6425.955774\n",
       "std     22940.367216   22940.367216         0.0    22940.367216\n",
       "min         1.000000       1.000000         0.0        1.000000\n",
       "25%        32.000000      32.000000         0.0       32.000000\n",
       "50%       322.500000     322.500000         0.0      322.500000\n",
       "75%      2664.750000    2664.750000         0.0     2664.750000\n",
       "max    246742.000000  246742.000000         0.0   246742.000000"
      ]
     },
     "execution_count": 69,
     "metadata": {},
     "output_type": "execute_result"
    }
   ],
   "source": [
    "explore.groupby('retailer_code').count().describe()"
   ]
  },
  {
   "cell_type": "code",
   "execution_count": 72,
   "metadata": {},
   "outputs": [
    {
     "name": "stdout",
     "output_type": "stream",
     "text": [
      "354\n"
     ]
    }
   ],
   "source": [
    "s=0\n",
    "for retailer in trips[trips.store_code_uc!=0].retailer_code.unique():\n",
    "    if retailer in explore.retailer_code.unique():\n",
    "        s+=1\n",
    "print(s)"
   ]
  },
  {
   "cell_type": "markdown",
   "metadata": {},
   "source": [
    "## Getting the store state"
   ]
  },
  {
   "cell_type": "code",
   "execution_count": 8,
   "metadata": {},
   "outputs": [
    {
     "data": {
      "text/html": [
       "<div>\n",
       "<style scoped>\n",
       "    .dataframe tbody tr th:only-of-type {\n",
       "        vertical-align: middle;\n",
       "    }\n",
       "\n",
       "    .dataframe tbody tr th {\n",
       "        vertical-align: top;\n",
       "    }\n",
       "\n",
       "    .dataframe thead th {\n",
       "        text-align: right;\n",
       "    }\n",
       "</style>\n",
       "<table border=\"1\" class=\"dataframe\">\n",
       "  <thead>\n",
       "    <tr style=\"text-align: right;\">\n",
       "      <th></th>\n",
       "      <th>state_code</th>\n",
       "    </tr>\n",
       "    <tr>\n",
       "      <th>state_fips</th>\n",
       "      <th></th>\n",
       "    </tr>\n",
       "  </thead>\n",
       "  <tbody>\n",
       "    <tr>\n",
       "      <th>1</th>\n",
       "      <td>AL</td>\n",
       "    </tr>\n",
       "    <tr>\n",
       "      <th>2</th>\n",
       "      <td>AK</td>\n",
       "    </tr>\n",
       "    <tr>\n",
       "      <th>4</th>\n",
       "      <td>AZ</td>\n",
       "    </tr>\n",
       "    <tr>\n",
       "      <th>5</th>\n",
       "      <td>AR</td>\n",
       "    </tr>\n",
       "    <tr>\n",
       "      <th>6</th>\n",
       "      <td>CA</td>\n",
       "    </tr>\n",
       "  </tbody>\n",
       "</table>\n",
       "</div>"
      ],
      "text/plain": [
       "           state_code\n",
       "state_fips           \n",
       "1                  AL\n",
       "2                  AK\n",
       "4                  AZ\n",
       "5                  AR\n",
       "6                  CA"
      ]
     },
     "execution_count": 8,
     "metadata": {},
     "output_type": "execute_result"
    }
   ],
   "source": [
    "state_fips = pd.read_table('states_fips.txt', header=0, names=['state_fips', 'state', 'state_abbr', 'state_code']).set_index('state_fips')[['state_code']]\n",
    "state_fips.head()"
   ]
  },
  {
   "cell_type": "code",
   "execution_count": 9,
   "metadata": {},
   "outputs": [
    {
     "data": {
      "text/html": [
       "<div>\n",
       "<style scoped>\n",
       "    .dataframe tbody tr th:only-of-type {\n",
       "        vertical-align: middle;\n",
       "    }\n",
       "\n",
       "    .dataframe tbody tr th {\n",
       "        vertical-align: top;\n",
       "    }\n",
       "\n",
       "    .dataframe thead th {\n",
       "        text-align: right;\n",
       "    }\n",
       "</style>\n",
       "<table border=\"1\" class=\"dataframe\">\n",
       "  <thead>\n",
       "    <tr style=\"text-align: right;\">\n",
       "      <th></th>\n",
       "      <th>purchase_date</th>\n",
       "      <th>retailer_code</th>\n",
       "      <th>store_code_uc</th>\n",
       "      <th>store_zip3</th>\n",
       "      <th>household_code</th>\n",
       "    </tr>\n",
       "    <tr>\n",
       "      <th>trip_code_uc</th>\n",
       "      <th></th>\n",
       "      <th></th>\n",
       "      <th></th>\n",
       "      <th></th>\n",
       "      <th></th>\n",
       "    </tr>\n",
       "  </thead>\n",
       "  <tbody>\n",
       "    <tr>\n",
       "      <th>1065667000</th>\n",
       "      <td>2016-10-23</td>\n",
       "      <td>2</td>\n",
       "      <td>4239361</td>\n",
       "      <td>190.0</td>\n",
       "      <td>2054802</td>\n",
       "    </tr>\n",
       "    <tr>\n",
       "      <th>1065667001</th>\n",
       "      <td>2016-12-20</td>\n",
       "      <td>9850</td>\n",
       "      <td>0</td>\n",
       "      <td>NaN</td>\n",
       "      <td>8648515</td>\n",
       "    </tr>\n",
       "    <tr>\n",
       "      <th>1065667002</th>\n",
       "      <td>2016-11-14</td>\n",
       "      <td>6920</td>\n",
       "      <td>3727506</td>\n",
       "      <td>730.0</td>\n",
       "      <td>30230428</td>\n",
       "    </tr>\n",
       "    <tr>\n",
       "      <th>1065667003</th>\n",
       "      <td>2016-08-10</td>\n",
       "      <td>6920</td>\n",
       "      <td>3001662</td>\n",
       "      <td>605.0</td>\n",
       "      <td>2071112</td>\n",
       "    </tr>\n",
       "    <tr>\n",
       "      <th>1065667004</th>\n",
       "      <td>2016-04-25</td>\n",
       "      <td>5851</td>\n",
       "      <td>0</td>\n",
       "      <td>NaN</td>\n",
       "      <td>2076738</td>\n",
       "    </tr>\n",
       "  </tbody>\n",
       "</table>\n",
       "</div>"
      ],
      "text/plain": [
       "             purchase_date  retailer_code  store_code_uc  store_zip3  \\\n",
       "trip_code_uc                                                           \n",
       "1065667000      2016-10-23              2        4239361       190.0   \n",
       "1065667001      2016-12-20           9850              0         NaN   \n",
       "1065667002      2016-11-14           6920        3727506       730.0   \n",
       "1065667003      2016-08-10           6920        3001662       605.0   \n",
       "1065667004      2016-04-25           5851              0         NaN   \n",
       "\n",
       "              household_code  \n",
       "trip_code_uc                  \n",
       "1065667000           2054802  \n",
       "1065667001           8648515  \n",
       "1065667002          30230428  \n",
       "1065667003           2071112  \n",
       "1065667004           2076738  "
      ]
     },
     "execution_count": 9,
     "metadata": {},
     "output_type": "execute_result"
    }
   ],
   "source": [
    "trips.head()"
   ]
  },
  {
   "cell_type": "code",
   "execution_count": 10,
   "metadata": {},
   "outputs": [
    {
     "data": {
      "text/html": [
       "<div>\n",
       "<style scoped>\n",
       "    .dataframe tbody tr th:only-of-type {\n",
       "        vertical-align: middle;\n",
       "    }\n",
       "\n",
       "    .dataframe tbody tr th {\n",
       "        vertical-align: top;\n",
       "    }\n",
       "\n",
       "    .dataframe thead th {\n",
       "        text-align: right;\n",
       "    }\n",
       "</style>\n",
       "<table border=\"1\" class=\"dataframe\">\n",
       "  <thead>\n",
       "    <tr style=\"text-align: right;\">\n",
       "      <th></th>\n",
       "      <th>purchase_date</th>\n",
       "      <th>retailer_code</th>\n",
       "      <th>store_code_uc</th>\n",
       "      <th>household_code</th>\n",
       "      <th>state</th>\n",
       "      <th>store_zip3</th>\n",
       "    </tr>\n",
       "  </thead>\n",
       "  <tbody>\n",
       "    <tr>\n",
       "      <th>0</th>\n",
       "      <td>2016-10-23</td>\n",
       "      <td>2</td>\n",
       "      <td>4239361</td>\n",
       "      <td>2054802</td>\n",
       "      <td>PA</td>\n",
       "      <td>190.0</td>\n",
       "    </tr>\n",
       "    <tr>\n",
       "      <th>1</th>\n",
       "      <td>2016-03-20</td>\n",
       "      <td>24</td>\n",
       "      <td>254521</td>\n",
       "      <td>30367513</td>\n",
       "      <td>PA</td>\n",
       "      <td>190.0</td>\n",
       "    </tr>\n",
       "    <tr>\n",
       "      <th>2</th>\n",
       "      <td>2016-02-24</td>\n",
       "      <td>120</td>\n",
       "      <td>1021442</td>\n",
       "      <td>30730891</td>\n",
       "      <td>PA</td>\n",
       "      <td>190.0</td>\n",
       "    </tr>\n",
       "    <tr>\n",
       "      <th>3</th>\n",
       "      <td>2016-06-14</td>\n",
       "      <td>120</td>\n",
       "      <td>4301315</td>\n",
       "      <td>30201210</td>\n",
       "      <td>PA</td>\n",
       "      <td>190.0</td>\n",
       "    </tr>\n",
       "    <tr>\n",
       "      <th>4</th>\n",
       "      <td>2016-11-16</td>\n",
       "      <td>2</td>\n",
       "      <td>977112</td>\n",
       "      <td>8646012</td>\n",
       "      <td>PA</td>\n",
       "      <td>190.0</td>\n",
       "    </tr>\n",
       "    <tr>\n",
       "      <th>...</th>\n",
       "      <td>...</td>\n",
       "      <td>...</td>\n",
       "      <td>...</td>\n",
       "      <td>...</td>\n",
       "      <td>...</td>\n",
       "      <td>...</td>\n",
       "    </tr>\n",
       "    <tr>\n",
       "      <th>5514902</th>\n",
       "      <td>2016-12-24</td>\n",
       "      <td>45</td>\n",
       "      <td>1996462</td>\n",
       "      <td>8286051</td>\n",
       "      <td>VT</td>\n",
       "      <td>53.0</td>\n",
       "    </tr>\n",
       "    <tr>\n",
       "      <th>5514903</th>\n",
       "      <td>2016-01-09</td>\n",
       "      <td>4901</td>\n",
       "      <td>3520966</td>\n",
       "      <td>8306752</td>\n",
       "      <td>VT</td>\n",
       "      <td>53.0</td>\n",
       "    </tr>\n",
       "    <tr>\n",
       "      <th>5514904</th>\n",
       "      <td>2016-01-19</td>\n",
       "      <td>34</td>\n",
       "      <td>1997671</td>\n",
       "      <td>8620167</td>\n",
       "      <td>VT</td>\n",
       "      <td>53.0</td>\n",
       "    </tr>\n",
       "    <tr>\n",
       "      <th>5514905</th>\n",
       "      <td>2016-12-28</td>\n",
       "      <td>45</td>\n",
       "      <td>1996462</td>\n",
       "      <td>8286051</td>\n",
       "      <td>VT</td>\n",
       "      <td>53.0</td>\n",
       "    </tr>\n",
       "    <tr>\n",
       "      <th>5514906</th>\n",
       "      <td>2016-04-21</td>\n",
       "      <td>3997</td>\n",
       "      <td>1768559</td>\n",
       "      <td>2010245</td>\n",
       "      <td>VT</td>\n",
       "      <td>53.0</td>\n",
       "    </tr>\n",
       "  </tbody>\n",
       "</table>\n",
       "<p>5514907 rows × 6 columns</p>\n",
       "</div>"
      ],
      "text/plain": [
       "        purchase_date  retailer_code  store_code_uc  household_code state  \\\n",
       "0          2016-10-23              2        4239361         2054802    PA   \n",
       "1          2016-03-20             24         254521        30367513    PA   \n",
       "2          2016-02-24            120        1021442        30730891    PA   \n",
       "3          2016-06-14            120        4301315        30201210    PA   \n",
       "4          2016-11-16              2         977112         8646012    PA   \n",
       "...               ...            ...            ...             ...   ...   \n",
       "5514902    2016-12-24             45        1996462         8286051    VT   \n",
       "5514903    2016-01-09           4901        3520966         8306752    VT   \n",
       "5514904    2016-01-19             34        1997671         8620167    VT   \n",
       "5514905    2016-12-28             45        1996462         8286051    VT   \n",
       "5514906    2016-04-21           3997        1768559         2010245    VT   \n",
       "\n",
       "         store_zip3  \n",
       "0             190.0  \n",
       "1             190.0  \n",
       "2             190.0  \n",
       "3             190.0  \n",
       "4             190.0  \n",
       "...             ...  \n",
       "5514902        53.0  \n",
       "5514903        53.0  \n",
       "5514904        53.0  \n",
       "5514905        53.0  \n",
       "5514906        53.0  \n",
       "\n",
       "[5514907 rows x 6 columns]"
      ]
     },
     "execution_count": 10,
     "metadata": {},
     "output_type": "execute_result"
    }
   ],
   "source": [
    "zip_to_state = pd.read_table('zip_prefixes.txt', header=0, names=['zip3','state', 'distib_center', 'towns'])[['zip3', 'state']]\n",
    "\n",
    "non_null = trips[trips.store_code_uc != 0]\n",
    "non_null = non_null.merge(zip_to_state, left_on='store_zip3', right_on='zip3')[['purchase_date', 'retailer_code', 'store_code_uc', 'household_code', 'state', 'store_zip3']]\n",
    "non_null"
   ]
  },
  {
   "cell_type": "markdown",
   "metadata": {},
   "source": [
    "## Getting the store county - mode"
   ]
  },
  {
   "cell_type": "code",
   "execution_count": 11,
   "metadata": {},
   "outputs": [
    {
     "data": {
      "text/html": [
       "<div>\n",
       "<style scoped>\n",
       "    .dataframe tbody tr th:only-of-type {\n",
       "        vertical-align: middle;\n",
       "    }\n",
       "\n",
       "    .dataframe tbody tr th {\n",
       "        vertical-align: top;\n",
       "    }\n",
       "\n",
       "    .dataframe thead th {\n",
       "        text-align: right;\n",
       "    }\n",
       "</style>\n",
       "<table border=\"1\" class=\"dataframe\">\n",
       "  <thead>\n",
       "    <tr style=\"text-align: right;\">\n",
       "      <th></th>\n",
       "      <th>retailer_code</th>\n",
       "      <th>store_code_uc</th>\n",
       "      <th>state</th>\n",
       "      <th>store_zip3</th>\n",
       "      <th>household_state</th>\n",
       "      <th>household_county_fips</th>\n",
       "      <th>household_county</th>\n",
       "      <th>household_zip3</th>\n",
       "    </tr>\n",
       "  </thead>\n",
       "  <tbody>\n",
       "    <tr>\n",
       "      <th>0</th>\n",
       "      <td>2</td>\n",
       "      <td>4239361</td>\n",
       "      <td>PA</td>\n",
       "      <td>190.0</td>\n",
       "      <td>PA</td>\n",
       "      <td>42045</td>\n",
       "      <td>DELAWARE</td>\n",
       "      <td>190</td>\n",
       "    </tr>\n",
       "    <tr>\n",
       "      <th>1</th>\n",
       "      <td>6905</td>\n",
       "      <td>2890557</td>\n",
       "      <td>PA</td>\n",
       "      <td>190.0</td>\n",
       "      <td>PA</td>\n",
       "      <td>42045</td>\n",
       "      <td>DELAWARE</td>\n",
       "      <td>190</td>\n",
       "    </tr>\n",
       "    <tr>\n",
       "      <th>2</th>\n",
       "      <td>6905</td>\n",
       "      <td>2890557</td>\n",
       "      <td>PA</td>\n",
       "      <td>190.0</td>\n",
       "      <td>PA</td>\n",
       "      <td>42045</td>\n",
       "      <td>DELAWARE</td>\n",
       "      <td>190</td>\n",
       "    </tr>\n",
       "    <tr>\n",
       "      <th>3</th>\n",
       "      <td>2</td>\n",
       "      <td>4239361</td>\n",
       "      <td>PA</td>\n",
       "      <td>190.0</td>\n",
       "      <td>PA</td>\n",
       "      <td>42045</td>\n",
       "      <td>DELAWARE</td>\n",
       "      <td>190</td>\n",
       "    </tr>\n",
       "    <tr>\n",
       "      <th>4</th>\n",
       "      <td>6920</td>\n",
       "      <td>7620551</td>\n",
       "      <td>PA</td>\n",
       "      <td>190.0</td>\n",
       "      <td>PA</td>\n",
       "      <td>42045</td>\n",
       "      <td>DELAWARE</td>\n",
       "      <td>190</td>\n",
       "    </tr>\n",
       "    <tr>\n",
       "      <th>...</th>\n",
       "      <td>...</td>\n",
       "      <td>...</td>\n",
       "      <td>...</td>\n",
       "      <td>...</td>\n",
       "      <td>...</td>\n",
       "      <td>...</td>\n",
       "      <td>...</td>\n",
       "      <td>...</td>\n",
       "    </tr>\n",
       "    <tr>\n",
       "      <th>5514902</th>\n",
       "      <td>6920</td>\n",
       "      <td>7847066</td>\n",
       "      <td>WY</td>\n",
       "      <td>823.0</td>\n",
       "      <td>WY</td>\n",
       "      <td>56007</td>\n",
       "      <td>CARBON</td>\n",
       "      <td>823</td>\n",
       "    </tr>\n",
       "    <tr>\n",
       "      <th>5514903</th>\n",
       "      <td>272</td>\n",
       "      <td>2723868</td>\n",
       "      <td>WY</td>\n",
       "      <td>823.0</td>\n",
       "      <td>WY</td>\n",
       "      <td>56007</td>\n",
       "      <td>CARBON</td>\n",
       "      <td>823</td>\n",
       "    </tr>\n",
       "    <tr>\n",
       "      <th>5514904</th>\n",
       "      <td>6920</td>\n",
       "      <td>7847066</td>\n",
       "      <td>WY</td>\n",
       "      <td>823.0</td>\n",
       "      <td>WY</td>\n",
       "      <td>56007</td>\n",
       "      <td>CARBON</td>\n",
       "      <td>823</td>\n",
       "    </tr>\n",
       "    <tr>\n",
       "      <th>5514905</th>\n",
       "      <td>6920</td>\n",
       "      <td>7847066</td>\n",
       "      <td>WY</td>\n",
       "      <td>823.0</td>\n",
       "      <td>WY</td>\n",
       "      <td>56007</td>\n",
       "      <td>CARBON</td>\n",
       "      <td>823</td>\n",
       "    </tr>\n",
       "    <tr>\n",
       "      <th>5514906</th>\n",
       "      <td>6920</td>\n",
       "      <td>7847066</td>\n",
       "      <td>WY</td>\n",
       "      <td>823.0</td>\n",
       "      <td>WY</td>\n",
       "      <td>56007</td>\n",
       "      <td>CARBON</td>\n",
       "      <td>823</td>\n",
       "    </tr>\n",
       "  </tbody>\n",
       "</table>\n",
       "<p>5514907 rows × 8 columns</p>\n",
       "</div>"
      ],
      "text/plain": [
       "         retailer_code  store_code_uc state  store_zip3 household_state  \\\n",
       "0                    2        4239361    PA       190.0              PA   \n",
       "1                 6905        2890557    PA       190.0              PA   \n",
       "2                 6905        2890557    PA       190.0              PA   \n",
       "3                    2        4239361    PA       190.0              PA   \n",
       "4                 6920        7620551    PA       190.0              PA   \n",
       "...                ...            ...   ...         ...             ...   \n",
       "5514902           6920        7847066    WY       823.0              WY   \n",
       "5514903            272        2723868    WY       823.0              WY   \n",
       "5514904           6920        7847066    WY       823.0              WY   \n",
       "5514905           6920        7847066    WY       823.0              WY   \n",
       "5514906           6920        7847066    WY       823.0              WY   \n",
       "\n",
       "         household_county_fips household_county  household_zip3  \n",
       "0                        42045         DELAWARE             190  \n",
       "1                        42045         DELAWARE             190  \n",
       "2                        42045         DELAWARE             190  \n",
       "3                        42045         DELAWARE             190  \n",
       "4                        42045         DELAWARE             190  \n",
       "...                        ...              ...             ...  \n",
       "5514902                  56007           CARBON             823  \n",
       "5514903                  56007           CARBON             823  \n",
       "5514904                  56007           CARBON             823  \n",
       "5514905                  56007           CARBON             823  \n",
       "5514906                  56007           CARBON             823  \n",
       "\n",
       "[5514907 rows x 8 columns]"
      ]
     },
     "execution_count": 11,
     "metadata": {},
     "output_type": "execute_result"
    }
   ],
   "source": [
    "## Getting the store state\n",
    "df_ = non_null.merge(panelist, left_on='household_code', right_on='Household_Cd')[['retailer_code', 'store_code_uc', 'state', 'store_zip3', 'household_state', 'household_county_fips', 'household_county', 'household_zip3']]\n",
    "df_"
   ]
  },
  {
   "cell_type": "code",
   "execution_count": 12,
   "metadata": {},
   "outputs": [
    {
     "name": "stdout",
     "output_type": "stream",
     "text": [
      "Taux de suppression : 0.027529022701561434 (proportion de foyers qui ne vont pas dans un store de leur Etat\n"
     ]
    }
   ],
   "source": [
    "# The store county is assumed to be the one where the maximum of households comes form.\n",
    "\n",
    "# Fisrt, we delete all the housolds that do not come from the store state.\n",
    "\n",
    "a = len(df_)\n",
    "df_ = df_[df_.household_state == df_.state] # TOUT RENOMMER\n",
    "print(f\"Taux de suppression : {1-len(df_)/a} (proportion de foyers qui ne vont pas dans un store de leur Etat\")"
   ]
  },
  {
   "cell_type": "code",
   "execution_count": 13,
   "metadata": {},
   "outputs": [
    {
     "name": "stdout",
     "output_type": "stream",
     "text": [
      "Taux de suppression : 0.14616842874262526 (proportion de foyers qui ne vont pas dans un store de leur Etat\n"
     ]
    }
   ],
   "source": [
    "# Fisrt, we delete all the housolds that do not come from the store zip3 zone.\n",
    "\n",
    "a = len(df_)\n",
    "df__ = df_[df_.household_zip3 == df_.store_zip3] # TOUT RENOMMER\n",
    "print(f\"Taux de suppression : {1-len(df__)/a} (proportion de foyers qui ne vont pas dans un store de leur Etat\")"
   ]
  },
  {
   "cell_type": "code",
   "execution_count": 15,
   "metadata": {},
   "outputs": [
    {
     "data": {
      "text/html": [
       "<div>\n",
       "<style scoped>\n",
       "    .dataframe tbody tr th:only-of-type {\n",
       "        vertical-align: middle;\n",
       "    }\n",
       "\n",
       "    .dataframe tbody tr th {\n",
       "        vertical-align: top;\n",
       "    }\n",
       "\n",
       "    .dataframe thead th {\n",
       "        text-align: right;\n",
       "    }\n",
       "</style>\n",
       "<table border=\"1\" class=\"dataframe\">\n",
       "  <thead>\n",
       "    <tr style=\"text-align: right;\">\n",
       "      <th></th>\n",
       "      <th>zip3</th>\n",
       "      <th>possible_store_counties</th>\n",
       "    </tr>\n",
       "  </thead>\n",
       "  <tbody>\n",
       "    <tr>\n",
       "      <th>0</th>\n",
       "      <td>6</td>\n",
       "      <td>[72005, 72013, 72125, 72097, 72153, 72054, 721...</td>\n",
       "    </tr>\n",
       "    <tr>\n",
       "      <th>1</th>\n",
       "      <td>7</td>\n",
       "      <td>[72113, 72053, 72025, 72075, 72057, 72069, 720...</td>\n",
       "    </tr>\n",
       "    <tr>\n",
       "      <th>2</th>\n",
       "      <td>9</td>\n",
       "      <td>[72127, 72021, 72031, 72061, 72139, 72033, 721...</td>\n",
       "    </tr>\n",
       "    <tr>\n",
       "      <th>3</th>\n",
       "      <td>10</td>\n",
       "      <td>[25013, 25015, 25027]</td>\n",
       "    </tr>\n",
       "    <tr>\n",
       "      <th>4</th>\n",
       "      <td>11</td>\n",
       "      <td>[25013]</td>\n",
       "    </tr>\n",
       "  </tbody>\n",
       "</table>\n",
       "</div>"
      ],
      "text/plain": [
       "   zip3                            possible_store_counties\n",
       "0     6  [72005, 72013, 72125, 72097, 72153, 72054, 721...\n",
       "1     7  [72113, 72053, 72025, 72075, 72057, 72069, 720...\n",
       "2     9  [72127, 72021, 72031, 72061, 72139, 72033, 721...\n",
       "3    10                              [25013, 25015, 25027]\n",
       "4    11                                            [25013]"
      ]
     },
     "execution_count": 15,
     "metadata": {},
     "output_type": "execute_result"
    }
   ],
   "source": [
    "uscities = pd.read_csv('../data_display/uscities.csv')[['state_id', 'county_fips', 'zips']]\n",
    "uscities['zips'] = uscities.zips.apply(str).apply(str.split)\n",
    "uscities = uscities.explode('zips')\n",
    "uscities = uscities[(uscities.zips !='unknown') & (uscities.zips!='nan')]\n",
    "uscities['zip3'] = np.vectorize(int)(uscities.zips)//100\n",
    "uscities = uscities[['state_id', 'county_fips', 'zip3']].drop_duplicates()\n",
    "store_counties = uscities.groupby('zip3')['county_fips'].apply(list).reset_index(name='possible_store_counties')\n",
    "store_counties.head()"
   ]
  },
  {
   "cell_type": "code",
   "execution_count": 18,
   "metadata": {},
   "outputs": [
    {
     "data": {
      "text/html": [
       "<div>\n",
       "<style scoped>\n",
       "    .dataframe tbody tr th:only-of-type {\n",
       "        vertical-align: middle;\n",
       "    }\n",
       "\n",
       "    .dataframe tbody tr th {\n",
       "        vertical-align: top;\n",
       "    }\n",
       "\n",
       "    .dataframe thead th {\n",
       "        text-align: right;\n",
       "    }\n",
       "</style>\n",
       "<table border=\"1\" class=\"dataframe\">\n",
       "  <thead>\n",
       "    <tr style=\"text-align: right;\">\n",
       "      <th></th>\n",
       "      <th>retailer_code</th>\n",
       "      <th>store_code_uc</th>\n",
       "      <th>state</th>\n",
       "      <th>store_zip3</th>\n",
       "      <th>household_county_fips</th>\n",
       "      <th>household_county</th>\n",
       "      <th>household_state</th>\n",
       "      <th>zip3</th>\n",
       "      <th>possible_store_counties</th>\n",
       "    </tr>\n",
       "  </thead>\n",
       "  <tbody>\n",
       "    <tr>\n",
       "      <th>0</th>\n",
       "      <td>2</td>\n",
       "      <td>4239361</td>\n",
       "      <td>PA</td>\n",
       "      <td>190.0</td>\n",
       "      <td>42045</td>\n",
       "      <td>DELAWARE</td>\n",
       "      <td>PA</td>\n",
       "      <td>190</td>\n",
       "      <td>42017</td>\n",
       "    </tr>\n",
       "    <tr>\n",
       "      <th>0</th>\n",
       "      <td>2</td>\n",
       "      <td>4239361</td>\n",
       "      <td>PA</td>\n",
       "      <td>190.0</td>\n",
       "      <td>42045</td>\n",
       "      <td>DELAWARE</td>\n",
       "      <td>PA</td>\n",
       "      <td>190</td>\n",
       "      <td>42091</td>\n",
       "    </tr>\n",
       "    <tr>\n",
       "      <th>0</th>\n",
       "      <td>2</td>\n",
       "      <td>4239361</td>\n",
       "      <td>PA</td>\n",
       "      <td>190.0</td>\n",
       "      <td>42045</td>\n",
       "      <td>DELAWARE</td>\n",
       "      <td>PA</td>\n",
       "      <td>190</td>\n",
       "      <td>42029</td>\n",
       "    </tr>\n",
       "    <tr>\n",
       "      <th>1</th>\n",
       "      <td>6905</td>\n",
       "      <td>2890557</td>\n",
       "      <td>PA</td>\n",
       "      <td>190.0</td>\n",
       "      <td>42045</td>\n",
       "      <td>DELAWARE</td>\n",
       "      <td>PA</td>\n",
       "      <td>190</td>\n",
       "      <td>42017</td>\n",
       "    </tr>\n",
       "    <tr>\n",
       "      <th>1</th>\n",
       "      <td>6905</td>\n",
       "      <td>2890557</td>\n",
       "      <td>PA</td>\n",
       "      <td>190.0</td>\n",
       "      <td>42045</td>\n",
       "      <td>DELAWARE</td>\n",
       "      <td>PA</td>\n",
       "      <td>190</td>\n",
       "      <td>42091</td>\n",
       "    </tr>\n",
       "  </tbody>\n",
       "</table>\n",
       "</div>"
      ],
      "text/plain": [
       "   retailer_code  store_code_uc state  store_zip3  household_county_fips  \\\n",
       "0              2        4239361    PA       190.0                  42045   \n",
       "0              2        4239361    PA       190.0                  42045   \n",
       "0              2        4239361    PA       190.0                  42045   \n",
       "1           6905        2890557    PA       190.0                  42045   \n",
       "1           6905        2890557    PA       190.0                  42045   \n",
       "\n",
       "  household_county household_state  zip3 possible_store_counties  \n",
       "0         DELAWARE              PA   190                   42017  \n",
       "0         DELAWARE              PA   190                   42091  \n",
       "0         DELAWARE              PA   190                   42029  \n",
       "1         DELAWARE              PA   190                   42017  \n",
       "1         DELAWARE              PA   190                   42091  "
      ]
     },
     "execution_count": 18,
     "metadata": {},
     "output_type": "execute_result"
    }
   ],
   "source": [
    "df__.head()"
   ]
  },
  {
   "cell_type": "code",
   "execution_count": 19,
   "metadata": {},
   "outputs": [
    {
     "name": "stdout",
     "output_type": "stream",
     "text": [
      "Taux de suppression : 0.987655989917747 (proportion de foyers qui ne vont pas dans un store de leur Etat\n"
     ]
    }
   ],
   "source": [
    "# Then, we delete all the housolds that do not come from the country (based on the 3 first figures of the zip_code)\n",
    "a = len(df_)\n",
    "df__ = df_.merge(store_counties, left_on='store_zip3', right_on='zip3').explode('possible_store_counties')\n",
    "df__ = df__[df__.household_county_fips != df__.possible_store_counties][['retailer_code', 'store_code_uc', 'state', 'store_zip3', 'household_county_fips', 'household_county', 'household_state', 'zip3']].drop_duplicates() # TOUT RENOMMER\n",
    "print(f\"Taux de suppression : {1-len(df__)/a} (proportion de foyers qui ne vont pas dans un store de leur county)\")"
   ]
  },
  {
   "cell_type": "code",
   "execution_count": 14,
   "metadata": {},
   "outputs": [],
   "source": [
    "from random import choice\n",
    "\n",
    "def my_mode(self):\n",
    "    return choice(list(pd.Series.mode(self)))"
   ]
  },
  {
   "cell_type": "code",
   "execution_count": 15,
   "metadata": {},
   "outputs": [
    {
     "data": {
      "text/html": [
       "<div>\n",
       "<style scoped>\n",
       "    .dataframe tbody tr th:only-of-type {\n",
       "        vertical-align: middle;\n",
       "    }\n",
       "\n",
       "    .dataframe tbody tr th {\n",
       "        vertical-align: top;\n",
       "    }\n",
       "\n",
       "    .dataframe thead th {\n",
       "        text-align: right;\n",
       "    }\n",
       "</style>\n",
       "<table border=\"1\" class=\"dataframe\">\n",
       "  <thead>\n",
       "    <tr style=\"text-align: right;\">\n",
       "      <th></th>\n",
       "      <th>retailer_code</th>\n",
       "      <th>state</th>\n",
       "      <th>household_county_fips</th>\n",
       "      <th>household_county</th>\n",
       "    </tr>\n",
       "    <tr>\n",
       "      <th>store_code_uc</th>\n",
       "      <th></th>\n",
       "      <th></th>\n",
       "      <th></th>\n",
       "      <th></th>\n",
       "    </tr>\n",
       "  </thead>\n",
       "  <tbody>\n",
       "    <tr>\n",
       "      <th>236</th>\n",
       "      <td>363</td>\n",
       "      <td>MN</td>\n",
       "      <td>27123</td>\n",
       "      <td>RAMSEY</td>\n",
       "    </tr>\n",
       "    <tr>\n",
       "      <th>540</th>\n",
       "      <td>4914</td>\n",
       "      <td>NC</td>\n",
       "      <td>37183</td>\n",
       "      <td>WAKE</td>\n",
       "    </tr>\n",
       "    <tr>\n",
       "      <th>557</th>\n",
       "      <td>3997</td>\n",
       "      <td>IL</td>\n",
       "      <td>17031</td>\n",
       "      <td>COOK</td>\n",
       "    </tr>\n",
       "    <tr>\n",
       "      <th>588</th>\n",
       "      <td>848</td>\n",
       "      <td>CA</td>\n",
       "      <td>6037</td>\n",
       "      <td>LOS ANGELES</td>\n",
       "    </tr>\n",
       "    <tr>\n",
       "      <th>920</th>\n",
       "      <td>290</td>\n",
       "      <td>FL</td>\n",
       "      <td>12099</td>\n",
       "      <td>PALM BEACH</td>\n",
       "    </tr>\n",
       "  </tbody>\n",
       "</table>\n",
       "</div>"
      ],
      "text/plain": [
       "               retailer_code state  household_county_fips household_county\n",
       "store_code_uc                                                             \n",
       "236                      363    MN                  27123           RAMSEY\n",
       "540                     4914    NC                  37183             WAKE\n",
       "557                     3997    IL                  17031             COOK\n",
       "588                      848    CA                   6037      LOS ANGELES\n",
       "920                      290    FL                  12099       PALM BEACH"
      ]
     },
     "execution_count": 15,
     "metadata": {},
     "output_type": "execute_result"
    }
   ],
   "source": [
    "# Then, we select the mode :\n",
    "store_counties = df__.groupby(['store_code_uc'])[['retailer_code', 'state', 'household_county_fips', 'household_county']].agg(my_mode)\n",
    "store_counties.head()\n"
   ]
  },
  {
   "cell_type": "code",
   "execution_count": 16,
   "metadata": {},
   "outputs": [],
   "source": [
    "def my_max(x):\n",
    "    try:\n",
    "        return max(x)\n",
    "    except:\n",
    "        return x\n",
    "def my_sum(x):\n",
    "    try:\n",
    "        return sum(x)\n",
    "    except:\n",
    "        return x"
   ]
  },
  {
   "cell_type": "code",
   "execution_count": 17,
   "metadata": {},
   "outputs": [
    {
     "data": {
      "text/html": [
       "<div>\n",
       "<style scoped>\n",
       "    .dataframe tbody tr th:only-of-type {\n",
       "        vertical-align: middle;\n",
       "    }\n",
       "\n",
       "    .dataframe tbody tr th {\n",
       "        vertical-align: top;\n",
       "    }\n",
       "\n",
       "    .dataframe thead th {\n",
       "        text-align: right;\n",
       "    }\n",
       "</style>\n",
       "<table border=\"1\" class=\"dataframe\">\n",
       "  <thead>\n",
       "    <tr style=\"text-align: right;\">\n",
       "      <th></th>\n",
       "      <th>household_county_fips</th>\n",
       "      <th>household_county</th>\n",
       "      <th>max_obs</th>\n",
       "      <th>nb_obs</th>\n",
       "      <th>max_freq</th>\n",
       "    </tr>\n",
       "    <tr>\n",
       "      <th>store_code_uc</th>\n",
       "      <th></th>\n",
       "      <th></th>\n",
       "      <th></th>\n",
       "      <th></th>\n",
       "      <th></th>\n",
       "    </tr>\n",
       "  </thead>\n",
       "  <tbody>\n",
       "    <tr>\n",
       "      <th>236</th>\n",
       "      <td>2</td>\n",
       "      <td>2</td>\n",
       "      <td>2</td>\n",
       "      <td>2</td>\n",
       "      <td>1.000000</td>\n",
       "    </tr>\n",
       "    <tr>\n",
       "      <th>540</th>\n",
       "      <td>8</td>\n",
       "      <td>8</td>\n",
       "      <td>8</td>\n",
       "      <td>8</td>\n",
       "      <td>1.000000</td>\n",
       "    </tr>\n",
       "    <tr>\n",
       "      <th>557</th>\n",
       "      <td>143</td>\n",
       "      <td>143</td>\n",
       "      <td>143</td>\n",
       "      <td>143</td>\n",
       "      <td>1.000000</td>\n",
       "    </tr>\n",
       "    <tr>\n",
       "      <th>588</th>\n",
       "      <td>2</td>\n",
       "      <td>2</td>\n",
       "      <td>2</td>\n",
       "      <td>2</td>\n",
       "      <td>1.000000</td>\n",
       "    </tr>\n",
       "    <tr>\n",
       "      <th>920</th>\n",
       "      <td>[60, 5]</td>\n",
       "      <td>[60, 5]</td>\n",
       "      <td>60</td>\n",
       "      <td>65</td>\n",
       "      <td>0.923077</td>\n",
       "    </tr>\n",
       "  </tbody>\n",
       "</table>\n",
       "</div>"
      ],
      "text/plain": [
       "              household_county_fips household_county  max_obs  nb_obs  \\\n",
       "store_code_uc                                                           \n",
       "236                               2                2        2       2   \n",
       "540                               8                8        8       8   \n",
       "557                             143              143      143     143   \n",
       "588                               2                2        2       2   \n",
       "920                         [60, 5]          [60, 5]       60      65   \n",
       "\n",
       "               max_freq  \n",
       "store_code_uc            \n",
       "236            1.000000  \n",
       "540            1.000000  \n",
       "557            1.000000  \n",
       "588            1.000000  \n",
       "920            0.923077  "
      ]
     },
     "execution_count": 17,
     "metadata": {},
     "output_type": "execute_result"
    }
   ],
   "source": [
    "test = df__.groupby(['store_code_uc'])[['household_county_fips', 'household_county']].agg(pd.Series.value_counts)\n",
    "test['max_obs'] = test.household_county.apply(my_max)\n",
    "test['nb_obs'] = test.household_county.apply(my_sum)\n",
    "test['max_freq'] = test.max_obs / test.nb_obs\n",
    "test.head()"
   ]
  },
  {
   "cell_type": "code",
   "execution_count": 20,
   "metadata": {},
   "outputs": [
    {
     "data": {
      "image/png": "[encoded data removed]",
      "text/plain": [
       "<Figure size 432x288 with 1 Axes>"
      ]
     },
     "metadata": {
      "needs_background": "light"
     },
     "output_type": "display_data"
    }
   ],
   "source": [
    "import matplotlib.pyplot as plt\n",
    "plt.xlabel('frequency of selected county among all possible counties (selected by zip3)')\n",
    "plt.ylabel('nb of store')\n",
    "plt.hist(test.max_freq.to_list());"
   ]
  },
  {
   "cell_type": "code",
   "execution_count": 19,
   "metadata": {},
   "outputs": [
    {
     "name": "stdout",
     "output_type": "stream",
     "text": [
      "0.8333333333333334\n",
      "1.0\n",
      "1.0\n"
     ]
    }
   ],
   "source": [
    "print(test.max_freq.quantile(0.1))\n",
    "print(test.max_freq.quantile(0.2))\n",
    "print(test.max_freq.quantile(0.3))"
   ]
  },
  {
   "cell_type": "code",
   "execution_count": 25,
   "metadata": {},
   "outputs": [
    {
     "data": {
      "image/png": "[encoded data removed]",
      "text/plain": [
       "<Figure size 432x288 with 1 Axes>"
      ]
     },
     "metadata": {
      "needs_background": "light"
     },
     "output_type": "display_data"
    }
   ],
   "source": [
    "plt.hist(test.nb_obs[test.nb_obs<30]);"
   ]
  },
  {
   "cell_type": "code",
   "execution_count": 22,
   "metadata": {},
   "outputs": [
    {
     "data": {
      "text/plain": [
       "<matplotlib.collections.PathCollection at 0x7f8fb2315670>"
      ]
     },
     "execution_count": 22,
     "metadata": {},
     "output_type": "execute_result"
    },
    {
     "data": {
      "image/png": "[encoded data removed]",
      "text/plain": [
       "<Figure size 432x288 with 1 Axes>"
      ]
     },
     "metadata": {
      "needs_background": "light"
     },
     "output_type": "display_data"
    }
   ],
   "source": [
    "plt.scatter(test.nb_obs, test.max_freq, marker='.');"
   ]
  },
  {
   "cell_type": "code",
   "execution_count": 21,
   "metadata": {},
   "outputs": [
    {
     "data": {
      "text/plain": [
       "<matplotlib.collections.PathCollection at 0x7f8fc4fa43d0>"
      ]
     },
     "execution_count": 21,
     "metadata": {},
     "output_type": "execute_result"
    },
    {
     "data": {
      "image/png": "[encoded data removed]",
      "text/plain": [
       "<Figure size 432x288 with 1 Axes>"
      ]
     },
     "metadata": {
      "needs_background": "light"
     },
     "output_type": "display_data"
    }
   ],
   "source": [
    "plt.scatter(test.nb_obs[test.nb_obs<100], test.max_freq[test.nb_obs<100], marker='.');"
   ]
  },
  {
   "cell_type": "code",
   "execution_count": 27,
   "metadata": {},
   "outputs": [
    {
     "name": "stdout",
     "output_type": "stream",
     "text": [
      "Taux d'erreur de prévision de l'Etat : 0.0\n"
     ]
    }
   ],
   "source": [
    "## Verification found county in state (pas nécessaire si on vire les counties \"étrangers\")\n",
    "if False :\n",
    "    zip_to_state = pd.read_table('zip_prefixes.txt', header=0, names=['zip3','state', 'distib_center', 'towns'])[['zip3', 'state']]\n",
    "\n",
    "\n",
    "    state_fips = pd.read_table('states_fips.txt', header=0, names=['state_fips', 'state', 'state_abbr', 'state_code']).set_index('state_fips')[['state_code']]\n",
    "\n",
    "    def fips_to_state(fips):\n",
    "\n",
    "        return state_fips.loc[fips//1000]['state_code']\n",
    "\n",
    "    store_counties['supposed_state'] = store_counties.County_fips.apply(fips_to_state)\n",
    "    print(f\"Taux d'erreur de prévision de l'Etat : {len(store_counties[store_counties.state != store_counties.supposed_state])/len(store_counties)}\")"
   ]
  },
  {
   "cell_type": "code",
   "execution_count": 27,
   "metadata": {},
   "outputs": [],
   "source": [
    "## Merging :\n",
    "\n",
    "df__ = purchases.merge(trips, on='trip_code_uc')[['trip_code_uc','purchase_date', 'retailer_code', 'household_code', 'upc', 'upc_price']]\n",
    "df__['purchase_month'] = df__.purchase_date.dt.month"
   ]
  },
  {
   "cell_type": "code",
   "execution_count": 28,
   "metadata": {},
   "outputs": [
    {
     "data": {
      "text/html": [
       "<div>\n",
       "<style scoped>\n",
       "    .dataframe tbody tr th:only-of-type {\n",
       "        vertical-align: middle;\n",
       "    }\n",
       "\n",
       "    .dataframe tbody tr th {\n",
       "        vertical-align: top;\n",
       "    }\n",
       "\n",
       "    .dataframe thead th {\n",
       "        text-align: right;\n",
       "    }\n",
       "</style>\n",
       "<table border=\"1\" class=\"dataframe\">\n",
       "  <thead>\n",
       "    <tr style=\"text-align: right;\">\n",
       "      <th></th>\n",
       "      <th>trip_code_uc</th>\n",
       "      <th>purchase_date</th>\n",
       "      <th>retailer_code</th>\n",
       "      <th>household_code</th>\n",
       "      <th>upc</th>\n",
       "      <th>upc_price</th>\n",
       "      <th>purchase_month</th>\n",
       "    </tr>\n",
       "  </thead>\n",
       "  <tbody>\n",
       "    <tr>\n",
       "      <th>0</th>\n",
       "      <td>1074839376</td>\n",
       "      <td>2016-12-22</td>\n",
       "      <td>130</td>\n",
       "      <td>8006004</td>\n",
       "      <td>1111040601</td>\n",
       "      <td>1.49</td>\n",
       "      <td>12</td>\n",
       "    </tr>\n",
       "    <tr>\n",
       "      <th>1</th>\n",
       "      <td>1074839376</td>\n",
       "      <td>2016-12-22</td>\n",
       "      <td>130</td>\n",
       "      <td>8006004</td>\n",
       "      <td>1111091620</td>\n",
       "      <td>1.41</td>\n",
       "      <td>12</td>\n",
       "    </tr>\n",
       "    <tr>\n",
       "      <th>2</th>\n",
       "      <td>1067492860</td>\n",
       "      <td>2016-01-16</td>\n",
       "      <td>130</td>\n",
       "      <td>8151352</td>\n",
       "      <td>1111040601</td>\n",
       "      <td>1.13</td>\n",
       "      <td>1</td>\n",
       "    </tr>\n",
       "    <tr>\n",
       "      <th>3</th>\n",
       "      <td>1067492860</td>\n",
       "      <td>2016-01-16</td>\n",
       "      <td>130</td>\n",
       "      <td>8151352</td>\n",
       "      <td>1111086901</td>\n",
       "      <td>4.57</td>\n",
       "      <td>1</td>\n",
       "    </tr>\n",
       "    <tr>\n",
       "      <th>4</th>\n",
       "      <td>1067492860</td>\n",
       "      <td>2016-01-16</td>\n",
       "      <td>130</td>\n",
       "      <td>8151352</td>\n",
       "      <td>1111078495</td>\n",
       "      <td>1.50</td>\n",
       "      <td>1</td>\n",
       "    </tr>\n",
       "  </tbody>\n",
       "</table>\n",
       "</div>"
      ],
      "text/plain": [
       "   trip_code_uc purchase_date  retailer_code  household_code         upc  \\\n",
       "0    1074839376    2016-12-22            130         8006004  1111040601   \n",
       "1    1074839376    2016-12-22            130         8006004  1111091620   \n",
       "2    1067492860    2016-01-16            130         8151352  1111040601   \n",
       "3    1067492860    2016-01-16            130         8151352  1111086901   \n",
       "4    1067492860    2016-01-16            130         8151352  1111078495   \n",
       "\n",
       "   upc_price  purchase_month  \n",
       "0       1.49              12  \n",
       "1       1.41              12  \n",
       "2       1.13               1  \n",
       "3       4.57               1  \n",
       "4       1.50               1  "
      ]
     },
     "execution_count": 28,
     "metadata": {},
     "output_type": "execute_result"
    }
   ],
   "source": [
    "df__.head()"
   ]
  },
  {
   "cell_type": "code",
   "execution_count": 29,
   "metadata": {},
   "outputs": [
    {
     "ename": "KeyboardInterrupt",
     "evalue": "",
     "output_type": "error",
     "traceback": [
      "\u001b[0;31m---------------------------------------------------------------------------\u001b[0m",
      "\u001b[0;31mKeyboardInterrupt\u001b[0m                         Traceback (most recent call last)",
      "\u001b[0;32m/var/folders/2x/jyk25dss11q4zcwpyjj6vtx40000gn/T/ipykernel_1562/766727928.py\u001b[0m in \u001b[0;36m<module>\u001b[0;34m\u001b[0m\n\u001b[0;32m----> 1\u001b[0;31m \u001b[0mprices\u001b[0m \u001b[0;34m=\u001b[0m \u001b[0mpd\u001b[0m\u001b[0;34m.\u001b[0m\u001b[0mDataFrame\u001b[0m\u001b[0;34m(\u001b[0m\u001b[0mdf__\u001b[0m\u001b[0;34m.\u001b[0m\u001b[0mgroupby\u001b[0m\u001b[0;34m(\u001b[0m\u001b[0;34m[\u001b[0m\u001b[0;34m'retailer_code'\u001b[0m\u001b[0;34m,\u001b[0m\u001b[0;34m'purchase_month'\u001b[0m\u001b[0;34m,\u001b[0m \u001b[0;34m'upc'\u001b[0m\u001b[0;34m]\u001b[0m\u001b[0;34m)\u001b[0m\u001b[0;34m.\u001b[0m\u001b[0mmean\u001b[0m\u001b[0;34m(\u001b[0m\u001b[0;34m)\u001b[0m\u001b[0;34m[\u001b[0m\u001b[0;34m'upc_price'\u001b[0m\u001b[0;34m]\u001b[0m\u001b[0;34m)\u001b[0m\u001b[0;34m.\u001b[0m\u001b[0mreset_index\u001b[0m\u001b[0;34m(\u001b[0m\u001b[0;34m)\u001b[0m\u001b[0;34m.\u001b[0m\u001b[0mmerge\u001b[0m\u001b[0;34m(\u001b[0m\u001b[0mstore_counties\u001b[0m\u001b[0;34m,\u001b[0m \u001b[0mon\u001b[0m\u001b[0;34m=\u001b[0m\u001b[0;34m'retailer_code'\u001b[0m\u001b[0;34m)\u001b[0m\u001b[0;34m\u001b[0m\u001b[0;34m\u001b[0m\u001b[0m\n\u001b[0m\u001b[1;32m      2\u001b[0m \u001b[0mprices\u001b[0m\u001b[0;34m.\u001b[0m\u001b[0mhead\u001b[0m\u001b[0;34m(\u001b[0m\u001b[0;34m)\u001b[0m\u001b[0;34m\u001b[0m\u001b[0;34m\u001b[0m\u001b[0m\n",
      "\u001b[0;32m/opt/miniconda3/lib/python3.9/site-packages/pandas/core/frame.py\u001b[0m in \u001b[0;36mmerge\u001b[0;34m(self, right, how, on, left_on, right_on, left_index, right_index, sort, suffixes, copy, indicator, validate)\u001b[0m\n\u001b[1;32m   9189\u001b[0m         \u001b[0;32mfrom\u001b[0m \u001b[0mpandas\u001b[0m\u001b[0;34m.\u001b[0m\u001b[0mcore\u001b[0m\u001b[0;34m.\u001b[0m\u001b[0mreshape\u001b[0m\u001b[0;34m.\u001b[0m\u001b[0mmerge\u001b[0m \u001b[0;32mimport\u001b[0m \u001b[0mmerge\u001b[0m\u001b[0;34m\u001b[0m\u001b[0;34m\u001b[0m\u001b[0m\n\u001b[1;32m   9190\u001b[0m \u001b[0;34m\u001b[0m\u001b[0m\n\u001b[0;32m-> 9191\u001b[0;31m         return merge(\n\u001b[0m\u001b[1;32m   9192\u001b[0m             \u001b[0mself\u001b[0m\u001b[0;34m,\u001b[0m\u001b[0;34m\u001b[0m\u001b[0;34m\u001b[0m\u001b[0m\n\u001b[1;32m   9193\u001b[0m             \u001b[0mright\u001b[0m\u001b[0;34m,\u001b[0m\u001b[0;34m\u001b[0m\u001b[0;34m\u001b[0m\u001b[0m\n",
      "\u001b[0;32m/opt/miniconda3/lib/python3.9/site-packages/pandas/core/reshape/merge.py\u001b[0m in \u001b[0;36mmerge\u001b[0;34m(left, right, how, on, left_on, right_on, left_index, right_index, sort, suffixes, copy, indicator, validate)\u001b[0m\n\u001b[1;32m    118\u001b[0m         \u001b[0mvalidate\u001b[0m\u001b[0;34m=\u001b[0m\u001b[0mvalidate\u001b[0m\u001b[0;34m,\u001b[0m\u001b[0;34m\u001b[0m\u001b[0;34m\u001b[0m\u001b[0m\n\u001b[1;32m    119\u001b[0m     )\n\u001b[0;32m--> 120\u001b[0;31m     \u001b[0;32mreturn\u001b[0m \u001b[0mop\u001b[0m\u001b[0;34m.\u001b[0m\u001b[0mget_result\u001b[0m\u001b[0;34m(\u001b[0m\u001b[0;34m)\u001b[0m\u001b[0;34m\u001b[0m\u001b[0;34m\u001b[0m\u001b[0m\n\u001b[0m\u001b[1;32m    121\u001b[0m \u001b[0;34m\u001b[0m\u001b[0m\n\u001b[1;32m    122\u001b[0m \u001b[0;34m\u001b[0m\u001b[0m\n",
      "\u001b[0;32m/opt/miniconda3/lib/python3.9/site-packages/pandas/core/reshape/merge.py\u001b[0m in \u001b[0;36mget_result\u001b[0;34m(self)\u001b[0m\n\u001b[1;32m    721\u001b[0m         \u001b[0mrindexers\u001b[0m \u001b[0;34m=\u001b[0m \u001b[0;34m{\u001b[0m\u001b[0;36m1\u001b[0m\u001b[0;34m:\u001b[0m \u001b[0mright_indexer\u001b[0m\u001b[0;34m}\u001b[0m \u001b[0;32mif\u001b[0m \u001b[0mright_indexer\u001b[0m \u001b[0;32mis\u001b[0m \u001b[0;32mnot\u001b[0m \u001b[0;32mNone\u001b[0m \u001b[0;32melse\u001b[0m \u001b[0;34m{\u001b[0m\u001b[0;34m}\u001b[0m\u001b[0;34m\u001b[0m\u001b[0;34m\u001b[0m\u001b[0m\n\u001b[1;32m    722\u001b[0m \u001b[0;34m\u001b[0m\u001b[0m\n\u001b[0;32m--> 723\u001b[0;31m         result_data = concatenate_managers(\n\u001b[0m\u001b[1;32m    724\u001b[0m             \u001b[0;34m[\u001b[0m\u001b[0;34m(\u001b[0m\u001b[0mself\u001b[0m\u001b[0;34m.\u001b[0m\u001b[0mleft\u001b[0m\u001b[0;34m.\u001b[0m\u001b[0m_mgr\u001b[0m\u001b[0;34m,\u001b[0m \u001b[0mlindexers\u001b[0m\u001b[0;34m)\u001b[0m\u001b[0;34m,\u001b[0m \u001b[0;34m(\u001b[0m\u001b[0mself\u001b[0m\u001b[0;34m.\u001b[0m\u001b[0mright\u001b[0m\u001b[0;34m.\u001b[0m\u001b[0m_mgr\u001b[0m\u001b[0;34m,\u001b[0m \u001b[0mrindexers\u001b[0m\u001b[0;34m)\u001b[0m\u001b[0;34m]\u001b[0m\u001b[0;34m,\u001b[0m\u001b[0;34m\u001b[0m\u001b[0;34m\u001b[0m\u001b[0m\n\u001b[1;32m    725\u001b[0m             \u001b[0maxes\u001b[0m\u001b[0;34m=\u001b[0m\u001b[0;34m[\u001b[0m\u001b[0mllabels\u001b[0m\u001b[0;34m.\u001b[0m\u001b[0mappend\u001b[0m\u001b[0;34m(\u001b[0m\u001b[0mrlabels\u001b[0m\u001b[0;34m)\u001b[0m\u001b[0;34m,\u001b[0m \u001b[0mjoin_index\u001b[0m\u001b[0;34m]\u001b[0m\u001b[0;34m,\u001b[0m\u001b[0;34m\u001b[0m\u001b[0;34m\u001b[0m\u001b[0m\n",
      "\u001b[0;32m/opt/miniconda3/lib/python3.9/site-packages/pandas/core/internals/concat.py\u001b[0m in \u001b[0;36mconcatenate_managers\u001b[0;34m(mgrs_indexers, axes, concat_axis, copy)\u001b[0m\n\u001b[1;32m    224\u001b[0m             \u001b[0mfastpath\u001b[0m \u001b[0;34m=\u001b[0m \u001b[0mblk\u001b[0m\u001b[0;34m.\u001b[0m\u001b[0mvalues\u001b[0m\u001b[0;34m.\u001b[0m\u001b[0mdtype\u001b[0m \u001b[0;34m==\u001b[0m \u001b[0mvalues\u001b[0m\u001b[0;34m.\u001b[0m\u001b[0mdtype\u001b[0m\u001b[0;34m\u001b[0m\u001b[0;34m\u001b[0m\u001b[0m\n\u001b[1;32m    225\u001b[0m         \u001b[0;32melse\u001b[0m\u001b[0;34m:\u001b[0m\u001b[0;34m\u001b[0m\u001b[0;34m\u001b[0m\u001b[0m\n\u001b[0;32m--> 226\u001b[0;31m             \u001b[0mvalues\u001b[0m \u001b[0;34m=\u001b[0m \u001b[0m_concatenate_join_units\u001b[0m\u001b[0;34m(\u001b[0m\u001b[0mjoin_units\u001b[0m\u001b[0;34m,\u001b[0m \u001b[0mconcat_axis\u001b[0m\u001b[0;34m,\u001b[0m \u001b[0mcopy\u001b[0m\u001b[0;34m=\u001b[0m\u001b[0mcopy\u001b[0m\u001b[0;34m)\u001b[0m\u001b[0;34m\u001b[0m\u001b[0;34m\u001b[0m\u001b[0m\n\u001b[0m\u001b[1;32m    227\u001b[0m             \u001b[0mfastpath\u001b[0m \u001b[0;34m=\u001b[0m \u001b[0;32mFalse\u001b[0m\u001b[0;34m\u001b[0m\u001b[0;34m\u001b[0m\u001b[0m\n\u001b[1;32m    228\u001b[0m \u001b[0;34m\u001b[0m\u001b[0m\n",
      "\u001b[0;32m/opt/miniconda3/lib/python3.9/site-packages/pandas/core/internals/concat.py\u001b[0m in \u001b[0;36m_concatenate_join_units\u001b[0;34m(join_units, concat_axis, copy)\u001b[0m\n\u001b[1;32m    488\u001b[0m     \u001b[0mupcasted_na\u001b[0m \u001b[0;34m=\u001b[0m \u001b[0m_dtype_to_na_value\u001b[0m\u001b[0;34m(\u001b[0m\u001b[0mempty_dtype\u001b[0m\u001b[0;34m,\u001b[0m \u001b[0mhas_none_blocks\u001b[0m\u001b[0;34m)\u001b[0m\u001b[0;34m\u001b[0m\u001b[0;34m\u001b[0m\u001b[0m\n\u001b[1;32m    489\u001b[0m \u001b[0;34m\u001b[0m\u001b[0m\n\u001b[0;32m--> 490\u001b[0;31m     to_concat = [\n\u001b[0m\u001b[1;32m    491\u001b[0m         \u001b[0mju\u001b[0m\u001b[0;34m.\u001b[0m\u001b[0mget_reindexed_values\u001b[0m\u001b[0;34m(\u001b[0m\u001b[0mempty_dtype\u001b[0m\u001b[0;34m=\u001b[0m\u001b[0mempty_dtype\u001b[0m\u001b[0;34m,\u001b[0m \u001b[0mupcasted_na\u001b[0m\u001b[0;34m=\u001b[0m\u001b[0mupcasted_na\u001b[0m\u001b[0;34m)\u001b[0m\u001b[0;34m\u001b[0m\u001b[0;34m\u001b[0m\u001b[0m\n\u001b[1;32m    492\u001b[0m         \u001b[0;32mfor\u001b[0m \u001b[0mju\u001b[0m \u001b[0;32min\u001b[0m \u001b[0mjoin_units\u001b[0m\u001b[0;34m\u001b[0m\u001b[0;34m\u001b[0m\u001b[0m\n",
      "\u001b[0;32m/opt/miniconda3/lib/python3.9/site-packages/pandas/core/internals/concat.py\u001b[0m in \u001b[0;36m<listcomp>\u001b[0;34m(.0)\u001b[0m\n\u001b[1;32m    489\u001b[0m \u001b[0;34m\u001b[0m\u001b[0m\n\u001b[1;32m    490\u001b[0m     to_concat = [\n\u001b[0;32m--> 491\u001b[0;31m         \u001b[0mju\u001b[0m\u001b[0;34m.\u001b[0m\u001b[0mget_reindexed_values\u001b[0m\u001b[0;34m(\u001b[0m\u001b[0mempty_dtype\u001b[0m\u001b[0;34m=\u001b[0m\u001b[0mempty_dtype\u001b[0m\u001b[0;34m,\u001b[0m \u001b[0mupcasted_na\u001b[0m\u001b[0;34m=\u001b[0m\u001b[0mupcasted_na\u001b[0m\u001b[0;34m)\u001b[0m\u001b[0;34m\u001b[0m\u001b[0;34m\u001b[0m\u001b[0m\n\u001b[0m\u001b[1;32m    492\u001b[0m         \u001b[0;32mfor\u001b[0m \u001b[0mju\u001b[0m \u001b[0;32min\u001b[0m \u001b[0mjoin_units\u001b[0m\u001b[0;34m\u001b[0m\u001b[0;34m\u001b[0m\u001b[0m\n\u001b[1;32m    493\u001b[0m     ]\n",
      "\u001b[0;32m/opt/miniconda3/lib/python3.9/site-packages/pandas/core/internals/concat.py\u001b[0m in \u001b[0;36mget_reindexed_values\u001b[0;34m(self, empty_dtype, upcasted_na)\u001b[0m\n\u001b[1;32m    468\u001b[0m         \u001b[0;32melse\u001b[0m\u001b[0;34m:\u001b[0m\u001b[0;34m\u001b[0m\u001b[0;34m\u001b[0m\u001b[0m\n\u001b[1;32m    469\u001b[0m             \u001b[0;32mfor\u001b[0m \u001b[0max\u001b[0m\u001b[0;34m,\u001b[0m \u001b[0mindexer\u001b[0m \u001b[0;32min\u001b[0m \u001b[0mself\u001b[0m\u001b[0;34m.\u001b[0m\u001b[0mindexers\u001b[0m\u001b[0;34m.\u001b[0m\u001b[0mitems\u001b[0m\u001b[0;34m(\u001b[0m\u001b[0;34m)\u001b[0m\u001b[0;34m:\u001b[0m\u001b[0;34m\u001b[0m\u001b[0;34m\u001b[0m\u001b[0m\n\u001b[0;32m--> 470\u001b[0;31m                 \u001b[0mvalues\u001b[0m \u001b[0;34m=\u001b[0m \u001b[0malgos\u001b[0m\u001b[0;34m.\u001b[0m\u001b[0mtake_nd\u001b[0m\u001b[0;34m(\u001b[0m\u001b[0mvalues\u001b[0m\u001b[0;34m,\u001b[0m \u001b[0mindexer\u001b[0m\u001b[0;34m,\u001b[0m \u001b[0maxis\u001b[0m\u001b[0;34m=\u001b[0m\u001b[0max\u001b[0m\u001b[0;34m)\u001b[0m\u001b[0;34m\u001b[0m\u001b[0;34m\u001b[0m\u001b[0m\n\u001b[0m\u001b[1;32m    471\u001b[0m \u001b[0;34m\u001b[0m\u001b[0m\n\u001b[1;32m    472\u001b[0m         \u001b[0;32mreturn\u001b[0m \u001b[0mvalues\u001b[0m\u001b[0;34m\u001b[0m\u001b[0;34m\u001b[0m\u001b[0m\n",
      "\u001b[0;31mKeyboardInterrupt\u001b[0m: "
     ]
    }
   ],
   "source": [
    "prices = pd.DataFrame(df__.groupby(['retailer_code','purchase_month', 'upc']).mean()['upc_price']).reset_index().merge(store_counties, on='retailer_code')\n",
    "prices.head()"
   ]
  },
  {
   "cell_type": "code",
   "execution_count": null,
   "metadata": {},
   "outputs": [],
   "source": []
  }
 ],
 "metadata": {
  "kernelspec": {
   "display_name": "Python 3.9.5 ('base')",
   "language": "python",
   "name": "python3"
  },
  "language_info": {
   "codemirror_mode": {
    "name": "ipython",
    "version": 3
   },
   "file_extension": ".py",
   "mimetype": "text/x-python",
   "name": "python",
   "nbconvert_exporter": "python",
   "pygments_lexer": "ipython3",
   "version": "3.9.5"
  },
  "orig_nbformat": 4,
  "vscode": {
   "interpreter": {
    "hash": "3d597f4c481aa0f25dceb95d2a0067e73c0966dcbd003d741d821a7208527ecf"
   }
  }
 },
 "nbformat": 4,
 "nbformat_minor": 2
}
