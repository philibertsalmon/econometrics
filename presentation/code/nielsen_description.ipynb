{
 "cells": [
  {
   "cell_type": "code",
   "execution_count": 1,
   "metadata": {},
   "outputs": [],
   "source": [
    "import pandas as pd\n",
    "import numpy as np\n",
    "import matplotlib.pyplot as plt"
   ]
  },
  {
   "cell_type": "code",
   "execution_count": 4,
   "metadata": {},
   "outputs": [],
   "source": [
    "nielsen15 = pd.read_csv('../../../Nielsen/aggregated_nielsen_2015.csv')\n",
    "nielsen16 = pd.read_csv('../../../Nielsen/aggregated_nielsen_2016.csv')\n",
    "nielsen15['year'] = 2015\n",
    "nielsen16['year'] = 2016"
   ]
  },
  {
   "cell_type": "code",
   "execution_count": 7,
   "metadata": {},
   "outputs": [],
   "source": [
    "nielsen = pd.concat((nielsen15, nielsen16))"
   ]
  },
  {
   "cell_type": "code",
   "execution_count": 8,
   "metadata": {},
   "outputs": [
    {
     "data": {
      "text/html": [
       "<div>\n",
       "<style scoped>\n",
       "    .dataframe tbody tr th:only-of-type {\n",
       "        vertical-align: middle;\n",
       "    }\n",
       "\n",
       "    .dataframe tbody tr th {\n",
       "        vertical-align: top;\n",
       "    }\n",
       "\n",
       "    .dataframe thead th {\n",
       "        text-align: right;\n",
       "    }\n",
       "</style>\n",
       "<table border=\"1\" class=\"dataframe\">\n",
       "  <thead>\n",
       "    <tr style=\"text-align: right;\">\n",
       "      <th></th>\n",
       "      <th>is_walmart</th>\n",
       "      <th>store_state</th>\n",
       "      <th>guessed_store_county</th>\n",
       "      <th>guessed_store_county_fips</th>\n",
       "      <th>purchase_year</th>\n",
       "      <th>purchase_month</th>\n",
       "      <th>product_group_descr</th>\n",
       "      <th>upc_price</th>\n",
       "      <th>upc_price_std</th>\n",
       "      <th>nb_of_obs</th>\n",
       "      <th>year</th>\n",
       "    </tr>\n",
       "  </thead>\n",
       "  <tbody>\n",
       "    <tr>\n",
       "      <th>0</th>\n",
       "      <td>False</td>\n",
       "      <td>AL</td>\n",
       "      <td>AUTAUGA</td>\n",
       "      <td>1001</td>\n",
       "      <td>2015</td>\n",
       "      <td>1</td>\n",
       "      <td>BREAD AND BAKED GOODS</td>\n",
       "      <td>1.811250</td>\n",
       "      <td>0.698211</td>\n",
       "      <td>8</td>\n",
       "      <td>2015</td>\n",
       "    </tr>\n",
       "    <tr>\n",
       "      <th>1</th>\n",
       "      <td>False</td>\n",
       "      <td>AL</td>\n",
       "      <td>AUTAUGA</td>\n",
       "      <td>1001</td>\n",
       "      <td>2015</td>\n",
       "      <td>1</td>\n",
       "      <td>BREAKFAST FOOD</td>\n",
       "      <td>3.723333</td>\n",
       "      <td>0.550757</td>\n",
       "      <td>3</td>\n",
       "      <td>2015</td>\n",
       "    </tr>\n",
       "    <tr>\n",
       "      <th>2</th>\n",
       "      <td>False</td>\n",
       "      <td>AL</td>\n",
       "      <td>AUTAUGA</td>\n",
       "      <td>1001</td>\n",
       "      <td>2015</td>\n",
       "      <td>1</td>\n",
       "      <td>CANDY</td>\n",
       "      <td>2.000000</td>\n",
       "      <td>NaN</td>\n",
       "      <td>1</td>\n",
       "      <td>2015</td>\n",
       "    </tr>\n",
       "    <tr>\n",
       "      <th>3</th>\n",
       "      <td>False</td>\n",
       "      <td>AL</td>\n",
       "      <td>AUTAUGA</td>\n",
       "      <td>1001</td>\n",
       "      <td>2015</td>\n",
       "      <td>1</td>\n",
       "      <td>CARBONATED BEVERAGES</td>\n",
       "      <td>1.698889</td>\n",
       "      <td>0.988831</td>\n",
       "      <td>9</td>\n",
       "      <td>2015</td>\n",
       "    </tr>\n",
       "    <tr>\n",
       "      <th>4</th>\n",
       "      <td>False</td>\n",
       "      <td>AL</td>\n",
       "      <td>AUTAUGA</td>\n",
       "      <td>1001</td>\n",
       "      <td>2015</td>\n",
       "      <td>1</td>\n",
       "      <td>CEREAL</td>\n",
       "      <td>2.420000</td>\n",
       "      <td>0.080000</td>\n",
       "      <td>3</td>\n",
       "      <td>2015</td>\n",
       "    </tr>\n",
       "  </tbody>\n",
       "</table>\n",
       "</div>"
      ],
      "text/plain": [
       "   is_walmart store_state guessed_store_county  guessed_store_county_fips  \\\n",
       "0       False          AL              AUTAUGA                       1001   \n",
       "1       False          AL              AUTAUGA                       1001   \n",
       "2       False          AL              AUTAUGA                       1001   \n",
       "3       False          AL              AUTAUGA                       1001   \n",
       "4       False          AL              AUTAUGA                       1001   \n",
       "\n",
       "   purchase_year  purchase_month    product_group_descr  upc_price  \\\n",
       "0           2015               1  BREAD AND BAKED GOODS   1.811250   \n",
       "1           2015               1         BREAKFAST FOOD   3.723333   \n",
       "2           2015               1                  CANDY   2.000000   \n",
       "3           2015               1   CARBONATED BEVERAGES   1.698889   \n",
       "4           2015               1                 CEREAL   2.420000   \n",
       "\n",
       "   upc_price_std  nb_of_obs  year  \n",
       "0       0.698211          8  2015  \n",
       "1       0.550757          3  2015  \n",
       "2            NaN          1  2015  \n",
       "3       0.988831          9  2015  \n",
       "4       0.080000          3  2015  "
      ]
     },
     "execution_count": 8,
     "metadata": {},
     "output_type": "execute_result"
    }
   ],
   "source": [
    "nielsen.head()"
   ]
  },
  {
   "cell_type": "code",
   "execution_count": 9,
   "metadata": {},
   "outputs": [
    {
     "data": {
      "text/plain": [
       "2563"
      ]
     },
     "execution_count": 9,
     "metadata": {},
     "output_type": "execute_result"
    }
   ],
   "source": [
    "len(nielsen.guessed_store_county_fips.unique())"
   ]
  },
  {
   "cell_type": "code",
   "execution_count": 11,
   "metadata": {},
   "outputs": [
    {
     "data": {
      "text/plain": [
       "count    5.858025e+06\n",
       "mean     1.565508e+01\n",
       "std      6.114036e+01\n",
       "min      1.000000e+00\n",
       "25%      2.000000e+00\n",
       "50%      4.000000e+00\n",
       "75%      1.100000e+01\n",
       "max      8.969000e+03\n",
       "Name: nb_of_obs, dtype: float64"
      ]
     },
     "execution_count": 11,
     "metadata": {},
     "output_type": "execute_result"
    }
   ],
   "source": [
    "nielsen.nb_of_obs.describe()"
   ]
  },
  {
   "cell_type": "code",
   "execution_count": 14,
   "metadata": {},
   "outputs": [
    {
     "data": {
      "text/plain": [
       "count    405519.000000\n",
       "mean         14.445747\n",
       "std           8.628185\n",
       "min           1.000000\n",
       "25%           6.000000\n",
       "50%          16.000000\n",
       "75%          24.000000\n",
       "max          24.000000\n",
       "Name: upc_price, dtype: float64"
      ]
     },
     "execution_count": 14,
     "metadata": {},
     "output_type": "execute_result"
    }
   ],
   "source": [
    "nielsen.groupby(['is_walmart', 'guessed_store_county_fips', 'product_group_descr']).count().upc_price.describe()"
   ]
  },
  {
   "cell_type": "code",
   "execution_count": 20,
   "metadata": {},
   "outputs": [
    {
     "data": {
      "text/plain": [
       "count    1.180000e+02\n",
       "mean     7.771850e+05\n",
       "std      1.197041e+06\n",
       "min      2.730000e+02\n",
       "25%      1.269560e+05\n",
       "50%      3.885490e+05\n",
       "75%      7.876950e+05\n",
       "max      9.750427e+06\n",
       "Name: nb_of_obs, dtype: float64"
      ]
     },
     "execution_count": 20,
     "metadata": {},
     "output_type": "execute_result"
    }
   ],
   "source": [
    "nielsen.groupby('product_group_descr').sum().nb_of_obs.describe()"
   ]
  },
  {
   "cell_type": "code",
   "execution_count": 21,
   "metadata": {},
   "outputs": [
    {
     "data": {
      "text/plain": [
       "118"
      ]
     },
     "execution_count": 21,
     "metadata": {},
     "output_type": "execute_result"
    }
   ],
   "source": [
    "len(nielsen.product_group_descr.unique())"
   ]
  },
  {
   "cell_type": "code",
   "execution_count": null,
   "metadata": {},
   "outputs": [],
   "source": []
  }
 ],
 "metadata": {
  "kernelspec": {
   "display_name": "Python 3.9.5 ('base')",
   "language": "python",
   "name": "python3"
  },
  "language_info": {
   "codemirror_mode": {
    "name": "ipython",
    "version": 3
   },
   "file_extension": ".py",
   "mimetype": "text/x-python",
   "name": "python",
   "nbconvert_exporter": "python",
   "pygments_lexer": "ipython3",
   "version": "3.9.5"
  },
  "orig_nbformat": 4,
  "vscode": {
   "interpreter": {
    "hash": "3d597f4c481aa0f25dceb95d2a0067e73c0966dcbd003d741d821a7208527ecf"
   }
  }
 },
 "nbformat": 4,
 "nbformat_minor": 2
}
